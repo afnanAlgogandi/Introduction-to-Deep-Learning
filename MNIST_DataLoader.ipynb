{
  "nbformat": 4,
  "nbformat_minor": 0,
  "metadata": {
    "colab": {
      "name": "MNIST_DataLoader.ipynb",
      "provenance": [],
      "collapsed_sections": [],
      "include_colab_link": true
    },
    "kernelspec": {
      "display_name": "Python 3",
      "language": "python",
      "name": "python3"
    },
    "language_info": {
      "codemirror_mode": {
        "name": "ipython",
        "version": 3
      },
      "file_extension": ".py",
      "mimetype": "text/x-python",
      "name": "python",
      "nbconvert_exporter": "python",
      "pygments_lexer": "ipython3",
      "version": "3.7.3"
    },
    "widgets": {
      "application/vnd.jupyter.widget-state+json": {
        "64cf1c16e4db48dcb5e8d8e85afb0e8e": {
          "model_module": "@jupyter-widgets/controls",
          "model_name": "HBoxModel",
          "model_module_version": "1.5.0",
          "state": {
            "_dom_classes": [],
            "_model_module": "@jupyter-widgets/controls",
            "_model_module_version": "1.5.0",
            "_model_name": "HBoxModel",
            "_view_count": null,
            "_view_module": "@jupyter-widgets/controls",
            "_view_module_version": "1.5.0",
            "_view_name": "HBoxView",
            "box_style": "",
            "children": [
              "IPY_MODEL_7121cec97785401c8b1ccdbf3c48713a",
              "IPY_MODEL_1e472d0c04184bd6ac328849da5b97bb",
              "IPY_MODEL_68b3897b9a984c64992ffaec719c0454"
            ],
            "layout": "IPY_MODEL_213daa50e43c40b9a09e38db08136fc4"
          }
        },
        "7121cec97785401c8b1ccdbf3c48713a": {
          "model_module": "@jupyter-widgets/controls",
          "model_name": "HTMLModel",
          "model_module_version": "1.5.0",
          "state": {
            "_dom_classes": [],
            "_model_module": "@jupyter-widgets/controls",
            "_model_module_version": "1.5.0",
            "_model_name": "HTMLModel",
            "_view_count": null,
            "_view_module": "@jupyter-widgets/controls",
            "_view_module_version": "1.5.0",
            "_view_name": "HTMLView",
            "description": "",
            "description_tooltip": null,
            "layout": "IPY_MODEL_b30121d046c54155978810d36caa9ac8",
            "placeholder": "​",
            "style": "IPY_MODEL_40ac4ff1df184614a06484a204f3faf7",
            "value": ""
          }
        },
        "1e472d0c04184bd6ac328849da5b97bb": {
          "model_module": "@jupyter-widgets/controls",
          "model_name": "FloatProgressModel",
          "model_module_version": "1.5.0",
          "state": {
            "_dom_classes": [],
            "_model_module": "@jupyter-widgets/controls",
            "_model_module_version": "1.5.0",
            "_model_name": "FloatProgressModel",
            "_view_count": null,
            "_view_module": "@jupyter-widgets/controls",
            "_view_module_version": "1.5.0",
            "_view_name": "ProgressView",
            "bar_style": "success",
            "description": "",
            "description_tooltip": null,
            "layout": "IPY_MODEL_d41f07af63514f07abd3b6b8de018980",
            "max": 9912422,
            "min": 0,
            "orientation": "horizontal",
            "style": "IPY_MODEL_a9322993a4e04770940d43e77678ec07",
            "value": 9912422
          }
        },
        "68b3897b9a984c64992ffaec719c0454": {
          "model_module": "@jupyter-widgets/controls",
          "model_name": "HTMLModel",
          "model_module_version": "1.5.0",
          "state": {
            "_dom_classes": [],
            "_model_module": "@jupyter-widgets/controls",
            "_model_module_version": "1.5.0",
            "_model_name": "HTMLModel",
            "_view_count": null,
            "_view_module": "@jupyter-widgets/controls",
            "_view_module_version": "1.5.0",
            "_view_name": "HTMLView",
            "description": "",
            "description_tooltip": null,
            "layout": "IPY_MODEL_cd0a1cd196cb462899d761311be0f03a",
            "placeholder": "​",
            "style": "IPY_MODEL_0b78a56888fb4dc891874ee1cd0ad689",
            "value": " 9913344/? [00:00&lt;00:00, 17228394.93it/s]"
          }
        },
        "213daa50e43c40b9a09e38db08136fc4": {
          "model_module": "@jupyter-widgets/base",
          "model_name": "LayoutModel",
          "model_module_version": "1.2.0",
          "state": {
            "_model_module": "@jupyter-widgets/base",
            "_model_module_version": "1.2.0",
            "_model_name": "LayoutModel",
            "_view_count": null,
            "_view_module": "@jupyter-widgets/base",
            "_view_module_version": "1.2.0",
            "_view_name": "LayoutView",
            "align_content": null,
            "align_items": null,
            "align_self": null,
            "border": null,
            "bottom": null,
            "display": null,
            "flex": null,
            "flex_flow": null,
            "grid_area": null,
            "grid_auto_columns": null,
            "grid_auto_flow": null,
            "grid_auto_rows": null,
            "grid_column": null,
            "grid_gap": null,
            "grid_row": null,
            "grid_template_areas": null,
            "grid_template_columns": null,
            "grid_template_rows": null,
            "height": null,
            "justify_content": null,
            "justify_items": null,
            "left": null,
            "margin": null,
            "max_height": null,
            "max_width": null,
            "min_height": null,
            "min_width": null,
            "object_fit": null,
            "object_position": null,
            "order": null,
            "overflow": null,
            "overflow_x": null,
            "overflow_y": null,
            "padding": null,
            "right": null,
            "top": null,
            "visibility": null,
            "width": null
          }
        },
        "b30121d046c54155978810d36caa9ac8": {
          "model_module": "@jupyter-widgets/base",
          "model_name": "LayoutModel",
          "model_module_version": "1.2.0",
          "state": {
            "_model_module": "@jupyter-widgets/base",
            "_model_module_version": "1.2.0",
            "_model_name": "LayoutModel",
            "_view_count": null,
            "_view_module": "@jupyter-widgets/base",
            "_view_module_version": "1.2.0",
            "_view_name": "LayoutView",
            "align_content": null,
            "align_items": null,
            "align_self": null,
            "border": null,
            "bottom": null,
            "display": null,
            "flex": null,
            "flex_flow": null,
            "grid_area": null,
            "grid_auto_columns": null,
            "grid_auto_flow": null,
            "grid_auto_rows": null,
            "grid_column": null,
            "grid_gap": null,
            "grid_row": null,
            "grid_template_areas": null,
            "grid_template_columns": null,
            "grid_template_rows": null,
            "height": null,
            "justify_content": null,
            "justify_items": null,
            "left": null,
            "margin": null,
            "max_height": null,
            "max_width": null,
            "min_height": null,
            "min_width": null,
            "object_fit": null,
            "object_position": null,
            "order": null,
            "overflow": null,
            "overflow_x": null,
            "overflow_y": null,
            "padding": null,
            "right": null,
            "top": null,
            "visibility": null,
            "width": null
          }
        },
        "40ac4ff1df184614a06484a204f3faf7": {
          "model_module": "@jupyter-widgets/controls",
          "model_name": "DescriptionStyleModel",
          "model_module_version": "1.5.0",
          "state": {
            "_model_module": "@jupyter-widgets/controls",
            "_model_module_version": "1.5.0",
            "_model_name": "DescriptionStyleModel",
            "_view_count": null,
            "_view_module": "@jupyter-widgets/base",
            "_view_module_version": "1.2.0",
            "_view_name": "StyleView",
            "description_width": ""
          }
        },
        "d41f07af63514f07abd3b6b8de018980": {
          "model_module": "@jupyter-widgets/base",
          "model_name": "LayoutModel",
          "model_module_version": "1.2.0",
          "state": {
            "_model_module": "@jupyter-widgets/base",
            "_model_module_version": "1.2.0",
            "_model_name": "LayoutModel",
            "_view_count": null,
            "_view_module": "@jupyter-widgets/base",
            "_view_module_version": "1.2.0",
            "_view_name": "LayoutView",
            "align_content": null,
            "align_items": null,
            "align_self": null,
            "border": null,
            "bottom": null,
            "display": null,
            "flex": null,
            "flex_flow": null,
            "grid_area": null,
            "grid_auto_columns": null,
            "grid_auto_flow": null,
            "grid_auto_rows": null,
            "grid_column": null,
            "grid_gap": null,
            "grid_row": null,
            "grid_template_areas": null,
            "grid_template_columns": null,
            "grid_template_rows": null,
            "height": null,
            "justify_content": null,
            "justify_items": null,
            "left": null,
            "margin": null,
            "max_height": null,
            "max_width": null,
            "min_height": null,
            "min_width": null,
            "object_fit": null,
            "object_position": null,
            "order": null,
            "overflow": null,
            "overflow_x": null,
            "overflow_y": null,
            "padding": null,
            "right": null,
            "top": null,
            "visibility": null,
            "width": null
          }
        },
        "a9322993a4e04770940d43e77678ec07": {
          "model_module": "@jupyter-widgets/controls",
          "model_name": "ProgressStyleModel",
          "model_module_version": "1.5.0",
          "state": {
            "_model_module": "@jupyter-widgets/controls",
            "_model_module_version": "1.5.0",
            "_model_name": "ProgressStyleModel",
            "_view_count": null,
            "_view_module": "@jupyter-widgets/base",
            "_view_module_version": "1.2.0",
            "_view_name": "StyleView",
            "bar_color": null,
            "description_width": ""
          }
        },
        "cd0a1cd196cb462899d761311be0f03a": {
          "model_module": "@jupyter-widgets/base",
          "model_name": "LayoutModel",
          "model_module_version": "1.2.0",
          "state": {
            "_model_module": "@jupyter-widgets/base",
            "_model_module_version": "1.2.0",
            "_model_name": "LayoutModel",
            "_view_count": null,
            "_view_module": "@jupyter-widgets/base",
            "_view_module_version": "1.2.0",
            "_view_name": "LayoutView",
            "align_content": null,
            "align_items": null,
            "align_self": null,
            "border": null,
            "bottom": null,
            "display": null,
            "flex": null,
            "flex_flow": null,
            "grid_area": null,
            "grid_auto_columns": null,
            "grid_auto_flow": null,
            "grid_auto_rows": null,
            "grid_column": null,
            "grid_gap": null,
            "grid_row": null,
            "grid_template_areas": null,
            "grid_template_columns": null,
            "grid_template_rows": null,
            "height": null,
            "justify_content": null,
            "justify_items": null,
            "left": null,
            "margin": null,
            "max_height": null,
            "max_width": null,
            "min_height": null,
            "min_width": null,
            "object_fit": null,
            "object_position": null,
            "order": null,
            "overflow": null,
            "overflow_x": null,
            "overflow_y": null,
            "padding": null,
            "right": null,
            "top": null,
            "visibility": null,
            "width": null
          }
        },
        "0b78a56888fb4dc891874ee1cd0ad689": {
          "model_module": "@jupyter-widgets/controls",
          "model_name": "DescriptionStyleModel",
          "model_module_version": "1.5.0",
          "state": {
            "_model_module": "@jupyter-widgets/controls",
            "_model_module_version": "1.5.0",
            "_model_name": "DescriptionStyleModel",
            "_view_count": null,
            "_view_module": "@jupyter-widgets/base",
            "_view_module_version": "1.2.0",
            "_view_name": "StyleView",
            "description_width": ""
          }
        },
        "9f9c031f4ebb4b299886b118d7cb350d": {
          "model_module": "@jupyter-widgets/controls",
          "model_name": "HBoxModel",
          "model_module_version": "1.5.0",
          "state": {
            "_dom_classes": [],
            "_model_module": "@jupyter-widgets/controls",
            "_model_module_version": "1.5.0",
            "_model_name": "HBoxModel",
            "_view_count": null,
            "_view_module": "@jupyter-widgets/controls",
            "_view_module_version": "1.5.0",
            "_view_name": "HBoxView",
            "box_style": "",
            "children": [
              "IPY_MODEL_f51c3af7a9094c14b11388e4ba8f696b",
              "IPY_MODEL_dd92844ae96743afa0c602c67b234237",
              "IPY_MODEL_ec81453cd199431ea58b78e2cee5c31c"
            ],
            "layout": "IPY_MODEL_2b72d0bb9e4f42f1a32876ee39315c61"
          }
        },
        "f51c3af7a9094c14b11388e4ba8f696b": {
          "model_module": "@jupyter-widgets/controls",
          "model_name": "HTMLModel",
          "model_module_version": "1.5.0",
          "state": {
            "_dom_classes": [],
            "_model_module": "@jupyter-widgets/controls",
            "_model_module_version": "1.5.0",
            "_model_name": "HTMLModel",
            "_view_count": null,
            "_view_module": "@jupyter-widgets/controls",
            "_view_module_version": "1.5.0",
            "_view_name": "HTMLView",
            "description": "",
            "description_tooltip": null,
            "layout": "IPY_MODEL_f1af31a4886b4266808a33cf197b70dc",
            "placeholder": "​",
            "style": "IPY_MODEL_3bc20c3dbcbf4a8bb947981509d2c070",
            "value": ""
          }
        },
        "dd92844ae96743afa0c602c67b234237": {
          "model_module": "@jupyter-widgets/controls",
          "model_name": "FloatProgressModel",
          "model_module_version": "1.5.0",
          "state": {
            "_dom_classes": [],
            "_model_module": "@jupyter-widgets/controls",
            "_model_module_version": "1.5.0",
            "_model_name": "FloatProgressModel",
            "_view_count": null,
            "_view_module": "@jupyter-widgets/controls",
            "_view_module_version": "1.5.0",
            "_view_name": "ProgressView",
            "bar_style": "success",
            "description": "",
            "description_tooltip": null,
            "layout": "IPY_MODEL_54d009a039e44fe9a10e33d9b632ace9",
            "max": 28881,
            "min": 0,
            "orientation": "horizontal",
            "style": "IPY_MODEL_5d1ab333104848b7b96ae433e0deb722",
            "value": 28881
          }
        },
        "ec81453cd199431ea58b78e2cee5c31c": {
          "model_module": "@jupyter-widgets/controls",
          "model_name": "HTMLModel",
          "model_module_version": "1.5.0",
          "state": {
            "_dom_classes": [],
            "_model_module": "@jupyter-widgets/controls",
            "_model_module_version": "1.5.0",
            "_model_name": "HTMLModel",
            "_view_count": null,
            "_view_module": "@jupyter-widgets/controls",
            "_view_module_version": "1.5.0",
            "_view_name": "HTMLView",
            "description": "",
            "description_tooltip": null,
            "layout": "IPY_MODEL_a75f1381f758447bb8c92c6338d0d508",
            "placeholder": "​",
            "style": "IPY_MODEL_4bad14d3733c4738b770bdf192724131",
            "value": " 29696/? [00:00&lt;00:00, 8892.33it/s]"
          }
        },
        "2b72d0bb9e4f42f1a32876ee39315c61": {
          "model_module": "@jupyter-widgets/base",
          "model_name": "LayoutModel",
          "model_module_version": "1.2.0",
          "state": {
            "_model_module": "@jupyter-widgets/base",
            "_model_module_version": "1.2.0",
            "_model_name": "LayoutModel",
            "_view_count": null,
            "_view_module": "@jupyter-widgets/base",
            "_view_module_version": "1.2.0",
            "_view_name": "LayoutView",
            "align_content": null,
            "align_items": null,
            "align_self": null,
            "border": null,
            "bottom": null,
            "display": null,
            "flex": null,
            "flex_flow": null,
            "grid_area": null,
            "grid_auto_columns": null,
            "grid_auto_flow": null,
            "grid_auto_rows": null,
            "grid_column": null,
            "grid_gap": null,
            "grid_row": null,
            "grid_template_areas": null,
            "grid_template_columns": null,
            "grid_template_rows": null,
            "height": null,
            "justify_content": null,
            "justify_items": null,
            "left": null,
            "margin": null,
            "max_height": null,
            "max_width": null,
            "min_height": null,
            "min_width": null,
            "object_fit": null,
            "object_position": null,
            "order": null,
            "overflow": null,
            "overflow_x": null,
            "overflow_y": null,
            "padding": null,
            "right": null,
            "top": null,
            "visibility": null,
            "width": null
          }
        },
        "f1af31a4886b4266808a33cf197b70dc": {
          "model_module": "@jupyter-widgets/base",
          "model_name": "LayoutModel",
          "model_module_version": "1.2.0",
          "state": {
            "_model_module": "@jupyter-widgets/base",
            "_model_module_version": "1.2.0",
            "_model_name": "LayoutModel",
            "_view_count": null,
            "_view_module": "@jupyter-widgets/base",
            "_view_module_version": "1.2.0",
            "_view_name": "LayoutView",
            "align_content": null,
            "align_items": null,
            "align_self": null,
            "border": null,
            "bottom": null,
            "display": null,
            "flex": null,
            "flex_flow": null,
            "grid_area": null,
            "grid_auto_columns": null,
            "grid_auto_flow": null,
            "grid_auto_rows": null,
            "grid_column": null,
            "grid_gap": null,
            "grid_row": null,
            "grid_template_areas": null,
            "grid_template_columns": null,
            "grid_template_rows": null,
            "height": null,
            "justify_content": null,
            "justify_items": null,
            "left": null,
            "margin": null,
            "max_height": null,
            "max_width": null,
            "min_height": null,
            "min_width": null,
            "object_fit": null,
            "object_position": null,
            "order": null,
            "overflow": null,
            "overflow_x": null,
            "overflow_y": null,
            "padding": null,
            "right": null,
            "top": null,
            "visibility": null,
            "width": null
          }
        },
        "3bc20c3dbcbf4a8bb947981509d2c070": {
          "model_module": "@jupyter-widgets/controls",
          "model_name": "DescriptionStyleModel",
          "model_module_version": "1.5.0",
          "state": {
            "_model_module": "@jupyter-widgets/controls",
            "_model_module_version": "1.5.0",
            "_model_name": "DescriptionStyleModel",
            "_view_count": null,
            "_view_module": "@jupyter-widgets/base",
            "_view_module_version": "1.2.0",
            "_view_name": "StyleView",
            "description_width": ""
          }
        },
        "54d009a039e44fe9a10e33d9b632ace9": {
          "model_module": "@jupyter-widgets/base",
          "model_name": "LayoutModel",
          "model_module_version": "1.2.0",
          "state": {
            "_model_module": "@jupyter-widgets/base",
            "_model_module_version": "1.2.0",
            "_model_name": "LayoutModel",
            "_view_count": null,
            "_view_module": "@jupyter-widgets/base",
            "_view_module_version": "1.2.0",
            "_view_name": "LayoutView",
            "align_content": null,
            "align_items": null,
            "align_self": null,
            "border": null,
            "bottom": null,
            "display": null,
            "flex": null,
            "flex_flow": null,
            "grid_area": null,
            "grid_auto_columns": null,
            "grid_auto_flow": null,
            "grid_auto_rows": null,
            "grid_column": null,
            "grid_gap": null,
            "grid_row": null,
            "grid_template_areas": null,
            "grid_template_columns": null,
            "grid_template_rows": null,
            "height": null,
            "justify_content": null,
            "justify_items": null,
            "left": null,
            "margin": null,
            "max_height": null,
            "max_width": null,
            "min_height": null,
            "min_width": null,
            "object_fit": null,
            "object_position": null,
            "order": null,
            "overflow": null,
            "overflow_x": null,
            "overflow_y": null,
            "padding": null,
            "right": null,
            "top": null,
            "visibility": null,
            "width": null
          }
        },
        "5d1ab333104848b7b96ae433e0deb722": {
          "model_module": "@jupyter-widgets/controls",
          "model_name": "ProgressStyleModel",
          "model_module_version": "1.5.0",
          "state": {
            "_model_module": "@jupyter-widgets/controls",
            "_model_module_version": "1.5.0",
            "_model_name": "ProgressStyleModel",
            "_view_count": null,
            "_view_module": "@jupyter-widgets/base",
            "_view_module_version": "1.2.0",
            "_view_name": "StyleView",
            "bar_color": null,
            "description_width": ""
          }
        },
        "a75f1381f758447bb8c92c6338d0d508": {
          "model_module": "@jupyter-widgets/base",
          "model_name": "LayoutModel",
          "model_module_version": "1.2.0",
          "state": {
            "_model_module": "@jupyter-widgets/base",
            "_model_module_version": "1.2.0",
            "_model_name": "LayoutModel",
            "_view_count": null,
            "_view_module": "@jupyter-widgets/base",
            "_view_module_version": "1.2.0",
            "_view_name": "LayoutView",
            "align_content": null,
            "align_items": null,
            "align_self": null,
            "border": null,
            "bottom": null,
            "display": null,
            "flex": null,
            "flex_flow": null,
            "grid_area": null,
            "grid_auto_columns": null,
            "grid_auto_flow": null,
            "grid_auto_rows": null,
            "grid_column": null,
            "grid_gap": null,
            "grid_row": null,
            "grid_template_areas": null,
            "grid_template_columns": null,
            "grid_template_rows": null,
            "height": null,
            "justify_content": null,
            "justify_items": null,
            "left": null,
            "margin": null,
            "max_height": null,
            "max_width": null,
            "min_height": null,
            "min_width": null,
            "object_fit": null,
            "object_position": null,
            "order": null,
            "overflow": null,
            "overflow_x": null,
            "overflow_y": null,
            "padding": null,
            "right": null,
            "top": null,
            "visibility": null,
            "width": null
          }
        },
        "4bad14d3733c4738b770bdf192724131": {
          "model_module": "@jupyter-widgets/controls",
          "model_name": "DescriptionStyleModel",
          "model_module_version": "1.5.0",
          "state": {
            "_model_module": "@jupyter-widgets/controls",
            "_model_module_version": "1.5.0",
            "_model_name": "DescriptionStyleModel",
            "_view_count": null,
            "_view_module": "@jupyter-widgets/base",
            "_view_module_version": "1.2.0",
            "_view_name": "StyleView",
            "description_width": ""
          }
        },
        "a19cfbadbdd541cdb620e908889868d9": {
          "model_module": "@jupyter-widgets/controls",
          "model_name": "HBoxModel",
          "model_module_version": "1.5.0",
          "state": {
            "_dom_classes": [],
            "_model_module": "@jupyter-widgets/controls",
            "_model_module_version": "1.5.0",
            "_model_name": "HBoxModel",
            "_view_count": null,
            "_view_module": "@jupyter-widgets/controls",
            "_view_module_version": "1.5.0",
            "_view_name": "HBoxView",
            "box_style": "",
            "children": [
              "IPY_MODEL_035fd5a41e2c4862b5dfa16e26214782",
              "IPY_MODEL_a2e4d85e34a14ed5950a9d0a94bcd080",
              "IPY_MODEL_198c9a36a5ac44e98b7051de1c0574e1"
            ],
            "layout": "IPY_MODEL_e6f8cb34bcad45dab1dd38adcab170c7"
          }
        },
        "035fd5a41e2c4862b5dfa16e26214782": {
          "model_module": "@jupyter-widgets/controls",
          "model_name": "HTMLModel",
          "model_module_version": "1.5.0",
          "state": {
            "_dom_classes": [],
            "_model_module": "@jupyter-widgets/controls",
            "_model_module_version": "1.5.0",
            "_model_name": "HTMLModel",
            "_view_count": null,
            "_view_module": "@jupyter-widgets/controls",
            "_view_module_version": "1.5.0",
            "_view_name": "HTMLView",
            "description": "",
            "description_tooltip": null,
            "layout": "IPY_MODEL_81e13877147243909374eec6b8ddd29f",
            "placeholder": "​",
            "style": "IPY_MODEL_fa9e4cebfa904685b9b27badfcb84ed7",
            "value": ""
          }
        },
        "a2e4d85e34a14ed5950a9d0a94bcd080": {
          "model_module": "@jupyter-widgets/controls",
          "model_name": "FloatProgressModel",
          "model_module_version": "1.5.0",
          "state": {
            "_dom_classes": [],
            "_model_module": "@jupyter-widgets/controls",
            "_model_module_version": "1.5.0",
            "_model_name": "FloatProgressModel",
            "_view_count": null,
            "_view_module": "@jupyter-widgets/controls",
            "_view_module_version": "1.5.0",
            "_view_name": "ProgressView",
            "bar_style": "success",
            "description": "",
            "description_tooltip": null,
            "layout": "IPY_MODEL_e357211a8dce490ea8a9f21f8b20cc47",
            "max": 1648877,
            "min": 0,
            "orientation": "horizontal",
            "style": "IPY_MODEL_2945da2ea49a4108a413d39a5ab64282",
            "value": 1648877
          }
        },
        "198c9a36a5ac44e98b7051de1c0574e1": {
          "model_module": "@jupyter-widgets/controls",
          "model_name": "HTMLModel",
          "model_module_version": "1.5.0",
          "state": {
            "_dom_classes": [],
            "_model_module": "@jupyter-widgets/controls",
            "_model_module_version": "1.5.0",
            "_model_name": "HTMLModel",
            "_view_count": null,
            "_view_module": "@jupyter-widgets/controls",
            "_view_module_version": "1.5.0",
            "_view_name": "HTMLView",
            "description": "",
            "description_tooltip": null,
            "layout": "IPY_MODEL_e92788dc808c48d8b441a49c9d511720",
            "placeholder": "​",
            "style": "IPY_MODEL_39fc6ae32ba042c89a638f13a9ebe7c8",
            "value": " 1649664/? [00:00&lt;00:00, 4039278.18it/s]"
          }
        },
        "e6f8cb34bcad45dab1dd38adcab170c7": {
          "model_module": "@jupyter-widgets/base",
          "model_name": "LayoutModel",
          "model_module_version": "1.2.0",
          "state": {
            "_model_module": "@jupyter-widgets/base",
            "_model_module_version": "1.2.0",
            "_model_name": "LayoutModel",
            "_view_count": null,
            "_view_module": "@jupyter-widgets/base",
            "_view_module_version": "1.2.0",
            "_view_name": "LayoutView",
            "align_content": null,
            "align_items": null,
            "align_self": null,
            "border": null,
            "bottom": null,
            "display": null,
            "flex": null,
            "flex_flow": null,
            "grid_area": null,
            "grid_auto_columns": null,
            "grid_auto_flow": null,
            "grid_auto_rows": null,
            "grid_column": null,
            "grid_gap": null,
            "grid_row": null,
            "grid_template_areas": null,
            "grid_template_columns": null,
            "grid_template_rows": null,
            "height": null,
            "justify_content": null,
            "justify_items": null,
            "left": null,
            "margin": null,
            "max_height": null,
            "max_width": null,
            "min_height": null,
            "min_width": null,
            "object_fit": null,
            "object_position": null,
            "order": null,
            "overflow": null,
            "overflow_x": null,
            "overflow_y": null,
            "padding": null,
            "right": null,
            "top": null,
            "visibility": null,
            "width": null
          }
        },
        "81e13877147243909374eec6b8ddd29f": {
          "model_module": "@jupyter-widgets/base",
          "model_name": "LayoutModel",
          "model_module_version": "1.2.0",
          "state": {
            "_model_module": "@jupyter-widgets/base",
            "_model_module_version": "1.2.0",
            "_model_name": "LayoutModel",
            "_view_count": null,
            "_view_module": "@jupyter-widgets/base",
            "_view_module_version": "1.2.0",
            "_view_name": "LayoutView",
            "align_content": null,
            "align_items": null,
            "align_self": null,
            "border": null,
            "bottom": null,
            "display": null,
            "flex": null,
            "flex_flow": null,
            "grid_area": null,
            "grid_auto_columns": null,
            "grid_auto_flow": null,
            "grid_auto_rows": null,
            "grid_column": null,
            "grid_gap": null,
            "grid_row": null,
            "grid_template_areas": null,
            "grid_template_columns": null,
            "grid_template_rows": null,
            "height": null,
            "justify_content": null,
            "justify_items": null,
            "left": null,
            "margin": null,
            "max_height": null,
            "max_width": null,
            "min_height": null,
            "min_width": null,
            "object_fit": null,
            "object_position": null,
            "order": null,
            "overflow": null,
            "overflow_x": null,
            "overflow_y": null,
            "padding": null,
            "right": null,
            "top": null,
            "visibility": null,
            "width": null
          }
        },
        "fa9e4cebfa904685b9b27badfcb84ed7": {
          "model_module": "@jupyter-widgets/controls",
          "model_name": "DescriptionStyleModel",
          "model_module_version": "1.5.0",
          "state": {
            "_model_module": "@jupyter-widgets/controls",
            "_model_module_version": "1.5.0",
            "_model_name": "DescriptionStyleModel",
            "_view_count": null,
            "_view_module": "@jupyter-widgets/base",
            "_view_module_version": "1.2.0",
            "_view_name": "StyleView",
            "description_width": ""
          }
        },
        "e357211a8dce490ea8a9f21f8b20cc47": {
          "model_module": "@jupyter-widgets/base",
          "model_name": "LayoutModel",
          "model_module_version": "1.2.0",
          "state": {
            "_model_module": "@jupyter-widgets/base",
            "_model_module_version": "1.2.0",
            "_model_name": "LayoutModel",
            "_view_count": null,
            "_view_module": "@jupyter-widgets/base",
            "_view_module_version": "1.2.0",
            "_view_name": "LayoutView",
            "align_content": null,
            "align_items": null,
            "align_self": null,
            "border": null,
            "bottom": null,
            "display": null,
            "flex": null,
            "flex_flow": null,
            "grid_area": null,
            "grid_auto_columns": null,
            "grid_auto_flow": null,
            "grid_auto_rows": null,
            "grid_column": null,
            "grid_gap": null,
            "grid_row": null,
            "grid_template_areas": null,
            "grid_template_columns": null,
            "grid_template_rows": null,
            "height": null,
            "justify_content": null,
            "justify_items": null,
            "left": null,
            "margin": null,
            "max_height": null,
            "max_width": null,
            "min_height": null,
            "min_width": null,
            "object_fit": null,
            "object_position": null,
            "order": null,
            "overflow": null,
            "overflow_x": null,
            "overflow_y": null,
            "padding": null,
            "right": null,
            "top": null,
            "visibility": null,
            "width": null
          }
        },
        "2945da2ea49a4108a413d39a5ab64282": {
          "model_module": "@jupyter-widgets/controls",
          "model_name": "ProgressStyleModel",
          "model_module_version": "1.5.0",
          "state": {
            "_model_module": "@jupyter-widgets/controls",
            "_model_module_version": "1.5.0",
            "_model_name": "ProgressStyleModel",
            "_view_count": null,
            "_view_module": "@jupyter-widgets/base",
            "_view_module_version": "1.2.0",
            "_view_name": "StyleView",
            "bar_color": null,
            "description_width": ""
          }
        },
        "e92788dc808c48d8b441a49c9d511720": {
          "model_module": "@jupyter-widgets/base",
          "model_name": "LayoutModel",
          "model_module_version": "1.2.0",
          "state": {
            "_model_module": "@jupyter-widgets/base",
            "_model_module_version": "1.2.0",
            "_model_name": "LayoutModel",
            "_view_count": null,
            "_view_module": "@jupyter-widgets/base",
            "_view_module_version": "1.2.0",
            "_view_name": "LayoutView",
            "align_content": null,
            "align_items": null,
            "align_self": null,
            "border": null,
            "bottom": null,
            "display": null,
            "flex": null,
            "flex_flow": null,
            "grid_area": null,
            "grid_auto_columns": null,
            "grid_auto_flow": null,
            "grid_auto_rows": null,
            "grid_column": null,
            "grid_gap": null,
            "grid_row": null,
            "grid_template_areas": null,
            "grid_template_columns": null,
            "grid_template_rows": null,
            "height": null,
            "justify_content": null,
            "justify_items": null,
            "left": null,
            "margin": null,
            "max_height": null,
            "max_width": null,
            "min_height": null,
            "min_width": null,
            "object_fit": null,
            "object_position": null,
            "order": null,
            "overflow": null,
            "overflow_x": null,
            "overflow_y": null,
            "padding": null,
            "right": null,
            "top": null,
            "visibility": null,
            "width": null
          }
        },
        "39fc6ae32ba042c89a638f13a9ebe7c8": {
          "model_module": "@jupyter-widgets/controls",
          "model_name": "DescriptionStyleModel",
          "model_module_version": "1.5.0",
          "state": {
            "_model_module": "@jupyter-widgets/controls",
            "_model_module_version": "1.5.0",
            "_model_name": "DescriptionStyleModel",
            "_view_count": null,
            "_view_module": "@jupyter-widgets/base",
            "_view_module_version": "1.2.0",
            "_view_name": "StyleView",
            "description_width": ""
          }
        },
        "69c2d398cc814638bde851c041b7cc3d": {
          "model_module": "@jupyter-widgets/controls",
          "model_name": "HBoxModel",
          "model_module_version": "1.5.0",
          "state": {
            "_dom_classes": [],
            "_model_module": "@jupyter-widgets/controls",
            "_model_module_version": "1.5.0",
            "_model_name": "HBoxModel",
            "_view_count": null,
            "_view_module": "@jupyter-widgets/controls",
            "_view_module_version": "1.5.0",
            "_view_name": "HBoxView",
            "box_style": "",
            "children": [
              "IPY_MODEL_fa68d91bc5af497c89824cbba2e2b287",
              "IPY_MODEL_796a1608384b47fc877c76bcf426be0e",
              "IPY_MODEL_ee8983b338c6483bb3a7aaf0d6680df6"
            ],
            "layout": "IPY_MODEL_e5a37a5ddcab4ca497e95f77ffeadb92"
          }
        },
        "fa68d91bc5af497c89824cbba2e2b287": {
          "model_module": "@jupyter-widgets/controls",
          "model_name": "HTMLModel",
          "model_module_version": "1.5.0",
          "state": {
            "_dom_classes": [],
            "_model_module": "@jupyter-widgets/controls",
            "_model_module_version": "1.5.0",
            "_model_name": "HTMLModel",
            "_view_count": null,
            "_view_module": "@jupyter-widgets/controls",
            "_view_module_version": "1.5.0",
            "_view_name": "HTMLView",
            "description": "",
            "description_tooltip": null,
            "layout": "IPY_MODEL_0414818c836c418a94791d63f63af4d6",
            "placeholder": "​",
            "style": "IPY_MODEL_35267e798dbe4b3681cb3115c403e7b8",
            "value": ""
          }
        },
        "796a1608384b47fc877c76bcf426be0e": {
          "model_module": "@jupyter-widgets/controls",
          "model_name": "FloatProgressModel",
          "model_module_version": "1.5.0",
          "state": {
            "_dom_classes": [],
            "_model_module": "@jupyter-widgets/controls",
            "_model_module_version": "1.5.0",
            "_model_name": "FloatProgressModel",
            "_view_count": null,
            "_view_module": "@jupyter-widgets/controls",
            "_view_module_version": "1.5.0",
            "_view_name": "ProgressView",
            "bar_style": "success",
            "description": "",
            "description_tooltip": null,
            "layout": "IPY_MODEL_5bec8171802048d1bb4ec1f50e48348b",
            "max": 4542,
            "min": 0,
            "orientation": "horizontal",
            "style": "IPY_MODEL_495c64db28a049cbab6b24e362885a72",
            "value": 4542
          }
        },
        "ee8983b338c6483bb3a7aaf0d6680df6": {
          "model_module": "@jupyter-widgets/controls",
          "model_name": "HTMLModel",
          "model_module_version": "1.5.0",
          "state": {
            "_dom_classes": [],
            "_model_module": "@jupyter-widgets/controls",
            "_model_module_version": "1.5.0",
            "_model_name": "HTMLModel",
            "_view_count": null,
            "_view_module": "@jupyter-widgets/controls",
            "_view_module_version": "1.5.0",
            "_view_name": "HTMLView",
            "description": "",
            "description_tooltip": null,
            "layout": "IPY_MODEL_243fb2c41bf647919d974684e35d4f93",
            "placeholder": "​",
            "style": "IPY_MODEL_aefd3947559446d4a5bb97e3a81f5c85",
            "value": " 5120/? [00:00&lt;00:00, 6319.77it/s]"
          }
        },
        "e5a37a5ddcab4ca497e95f77ffeadb92": {
          "model_module": "@jupyter-widgets/base",
          "model_name": "LayoutModel",
          "model_module_version": "1.2.0",
          "state": {
            "_model_module": "@jupyter-widgets/base",
            "_model_module_version": "1.2.0",
            "_model_name": "LayoutModel",
            "_view_count": null,
            "_view_module": "@jupyter-widgets/base",
            "_view_module_version": "1.2.0",
            "_view_name": "LayoutView",
            "align_content": null,
            "align_items": null,
            "align_self": null,
            "border": null,
            "bottom": null,
            "display": null,
            "flex": null,
            "flex_flow": null,
            "grid_area": null,
            "grid_auto_columns": null,
            "grid_auto_flow": null,
            "grid_auto_rows": null,
            "grid_column": null,
            "grid_gap": null,
            "grid_row": null,
            "grid_template_areas": null,
            "grid_template_columns": null,
            "grid_template_rows": null,
            "height": null,
            "justify_content": null,
            "justify_items": null,
            "left": null,
            "margin": null,
            "max_height": null,
            "max_width": null,
            "min_height": null,
            "min_width": null,
            "object_fit": null,
            "object_position": null,
            "order": null,
            "overflow": null,
            "overflow_x": null,
            "overflow_y": null,
            "padding": null,
            "right": null,
            "top": null,
            "visibility": null,
            "width": null
          }
        },
        "0414818c836c418a94791d63f63af4d6": {
          "model_module": "@jupyter-widgets/base",
          "model_name": "LayoutModel",
          "model_module_version": "1.2.0",
          "state": {
            "_model_module": "@jupyter-widgets/base",
            "_model_module_version": "1.2.0",
            "_model_name": "LayoutModel",
            "_view_count": null,
            "_view_module": "@jupyter-widgets/base",
            "_view_module_version": "1.2.0",
            "_view_name": "LayoutView",
            "align_content": null,
            "align_items": null,
            "align_self": null,
            "border": null,
            "bottom": null,
            "display": null,
            "flex": null,
            "flex_flow": null,
            "grid_area": null,
            "grid_auto_columns": null,
            "grid_auto_flow": null,
            "grid_auto_rows": null,
            "grid_column": null,
            "grid_gap": null,
            "grid_row": null,
            "grid_template_areas": null,
            "grid_template_columns": null,
            "grid_template_rows": null,
            "height": null,
            "justify_content": null,
            "justify_items": null,
            "left": null,
            "margin": null,
            "max_height": null,
            "max_width": null,
            "min_height": null,
            "min_width": null,
            "object_fit": null,
            "object_position": null,
            "order": null,
            "overflow": null,
            "overflow_x": null,
            "overflow_y": null,
            "padding": null,
            "right": null,
            "top": null,
            "visibility": null,
            "width": null
          }
        },
        "35267e798dbe4b3681cb3115c403e7b8": {
          "model_module": "@jupyter-widgets/controls",
          "model_name": "DescriptionStyleModel",
          "model_module_version": "1.5.0",
          "state": {
            "_model_module": "@jupyter-widgets/controls",
            "_model_module_version": "1.5.0",
            "_model_name": "DescriptionStyleModel",
            "_view_count": null,
            "_view_module": "@jupyter-widgets/base",
            "_view_module_version": "1.2.0",
            "_view_name": "StyleView",
            "description_width": ""
          }
        },
        "5bec8171802048d1bb4ec1f50e48348b": {
          "model_module": "@jupyter-widgets/base",
          "model_name": "LayoutModel",
          "model_module_version": "1.2.0",
          "state": {
            "_model_module": "@jupyter-widgets/base",
            "_model_module_version": "1.2.0",
            "_model_name": "LayoutModel",
            "_view_count": null,
            "_view_module": "@jupyter-widgets/base",
            "_view_module_version": "1.2.0",
            "_view_name": "LayoutView",
            "align_content": null,
            "align_items": null,
            "align_self": null,
            "border": null,
            "bottom": null,
            "display": null,
            "flex": null,
            "flex_flow": null,
            "grid_area": null,
            "grid_auto_columns": null,
            "grid_auto_flow": null,
            "grid_auto_rows": null,
            "grid_column": null,
            "grid_gap": null,
            "grid_row": null,
            "grid_template_areas": null,
            "grid_template_columns": null,
            "grid_template_rows": null,
            "height": null,
            "justify_content": null,
            "justify_items": null,
            "left": null,
            "margin": null,
            "max_height": null,
            "max_width": null,
            "min_height": null,
            "min_width": null,
            "object_fit": null,
            "object_position": null,
            "order": null,
            "overflow": null,
            "overflow_x": null,
            "overflow_y": null,
            "padding": null,
            "right": null,
            "top": null,
            "visibility": null,
            "width": null
          }
        },
        "495c64db28a049cbab6b24e362885a72": {
          "model_module": "@jupyter-widgets/controls",
          "model_name": "ProgressStyleModel",
          "model_module_version": "1.5.0",
          "state": {
            "_model_module": "@jupyter-widgets/controls",
            "_model_module_version": "1.5.0",
            "_model_name": "ProgressStyleModel",
            "_view_count": null,
            "_view_module": "@jupyter-widgets/base",
            "_view_module_version": "1.2.0",
            "_view_name": "StyleView",
            "bar_color": null,
            "description_width": ""
          }
        },
        "243fb2c41bf647919d974684e35d4f93": {
          "model_module": "@jupyter-widgets/base",
          "model_name": "LayoutModel",
          "model_module_version": "1.2.0",
          "state": {
            "_model_module": "@jupyter-widgets/base",
            "_model_module_version": "1.2.0",
            "_model_name": "LayoutModel",
            "_view_count": null,
            "_view_module": "@jupyter-widgets/base",
            "_view_module_version": "1.2.0",
            "_view_name": "LayoutView",
            "align_content": null,
            "align_items": null,
            "align_self": null,
            "border": null,
            "bottom": null,
            "display": null,
            "flex": null,
            "flex_flow": null,
            "grid_area": null,
            "grid_auto_columns": null,
            "grid_auto_flow": null,
            "grid_auto_rows": null,
            "grid_column": null,
            "grid_gap": null,
            "grid_row": null,
            "grid_template_areas": null,
            "grid_template_columns": null,
            "grid_template_rows": null,
            "height": null,
            "justify_content": null,
            "justify_items": null,
            "left": null,
            "margin": null,
            "max_height": null,
            "max_width": null,
            "min_height": null,
            "min_width": null,
            "object_fit": null,
            "object_position": null,
            "order": null,
            "overflow": null,
            "overflow_x": null,
            "overflow_y": null,
            "padding": null,
            "right": null,
            "top": null,
            "visibility": null,
            "width": null
          }
        },
        "aefd3947559446d4a5bb97e3a81f5c85": {
          "model_module": "@jupyter-widgets/controls",
          "model_name": "DescriptionStyleModel",
          "model_module_version": "1.5.0",
          "state": {
            "_model_module": "@jupyter-widgets/controls",
            "_model_module_version": "1.5.0",
            "_model_name": "DescriptionStyleModel",
            "_view_count": null,
            "_view_module": "@jupyter-widgets/base",
            "_view_module_version": "1.2.0",
            "_view_name": "StyleView",
            "description_width": ""
          }
        }
      }
    }
  },
  "cells": [
    {
      "cell_type": "markdown",
      "metadata": {
        "id": "view-in-github",
        "colab_type": "text"
      },
      "source": [
        "<a href=\"https://colab.research.google.com/github/afnanAlgognadi/Introduction-to-Deep-Learning/blob/main/MNIST_DataLoader.ipynb\" target=\"_parent\"><img src=\"https://colab.research.google.com/assets/colab-badge.svg\" alt=\"Open In Colab\"/></a>"
      ]
    },
    {
      "cell_type": "markdown",
      "source": [
        "## Data Handling in PyTorch\n",
        "\n",
        "One of the most important parts of any machine learning pipeline is data handling, i.e. providing an iterface between data on the hard drive and the DL algorithm. \n",
        "\n",
        "\n",
        "We typically can't load all the data in the RAM at once as the data in DL application is prohibitively large. And we don't need all the data a single time, anyway, for algorithms like Batch/Sotchastic gradient decent.\n",
        "\n",
        "PyTorch provides dataloader to effictively load the data and provide a pipeline from data to the DL algorithm. \n",
        "\n",
        "Below we will look at an example of a dataloader written in PyTorch."
      ],
      "metadata": {
        "id": "1YGNs23bpbQb"
      }
    },
    {
      "cell_type": "code",
      "metadata": {
        "id": "ojrPcD9u3ekW"
      },
      "source": [
        "import torch\n",
        "import torch.nn as nn\n",
        "import torch.nn.functional as F\n",
        "import torch.optim as optim\n",
        "import numpy as np\n",
        "import matplotlib.pyplot as plt\n",
        "from torch.utils.data import Dataset, DataLoader\n",
        "import imageio as Image\n",
        "\n",
        "%matplotlib inline"
      ],
      "execution_count": null,
      "outputs": []
    },
    {
      "cell_type": "code",
      "metadata": {
        "id": "VhCQjrnF3obn"
      },
      "source": [
        "import torch\n",
        "from torchvision import transforms\n",
        "from torchvision.datasets import MNIST\n",
        "\n",
        "\n",
        "# MNIST\n",
        "def mnist(batch_sz):\n",
        "    num_classes = 10\n",
        "    transform_train = transforms.Compose([\n",
        "                        transforms.RandomCrop(28, padding=4),\n",
        "                        transforms.ToTensor(),\n",
        "                    ])\n",
        "    transform_test = transforms.Compose([\n",
        "                        transforms.ToTensor(),\n",
        "                    ])\n",
        "\n",
        "    # Training dataset\n",
        "    train_data = MNIST(root='./datasets', train=True, download=True, transform=transform_train)\n",
        "    train_loader = torch.utils.data.DataLoader(train_data, batch_size=batch_sz, shuffle=True,pin_memory=True)\n",
        "\n",
        "    # Test dataset\n",
        "    test_data = MNIST(root='./datasets', train=False, download=True, transform=transform_test)\n",
        "    test_loader = torch.utils.data.DataLoader(test_data,\n",
        "                                              batch_size=batch_sz, shuffle=False, pin_memory=True)\n",
        "\n",
        "    return train_loader, test_loader, num_classes\n",
        "\n",
        "\n"
      ],
      "execution_count": null,
      "outputs": []
    },
    {
      "cell_type": "code",
      "metadata": {
        "id": "pKmOPbO84L63",
        "colab": {
          "base_uri": "https://localhost:8080/",
          "height": 449,
          "referenced_widgets": [
            "64cf1c16e4db48dcb5e8d8e85afb0e8e",
            "7121cec97785401c8b1ccdbf3c48713a",
            "1e472d0c04184bd6ac328849da5b97bb",
            "68b3897b9a984c64992ffaec719c0454",
            "213daa50e43c40b9a09e38db08136fc4",
            "b30121d046c54155978810d36caa9ac8",
            "40ac4ff1df184614a06484a204f3faf7",
            "d41f07af63514f07abd3b6b8de018980",
            "a9322993a4e04770940d43e77678ec07",
            "cd0a1cd196cb462899d761311be0f03a",
            "0b78a56888fb4dc891874ee1cd0ad689",
            "9f9c031f4ebb4b299886b118d7cb350d",
            "f51c3af7a9094c14b11388e4ba8f696b",
            "dd92844ae96743afa0c602c67b234237",
            "ec81453cd199431ea58b78e2cee5c31c",
            "2b72d0bb9e4f42f1a32876ee39315c61",
            "f1af31a4886b4266808a33cf197b70dc",
            "3bc20c3dbcbf4a8bb947981509d2c070",
            "54d009a039e44fe9a10e33d9b632ace9",
            "5d1ab333104848b7b96ae433e0deb722",
            "a75f1381f758447bb8c92c6338d0d508",
            "4bad14d3733c4738b770bdf192724131",
            "a19cfbadbdd541cdb620e908889868d9",
            "035fd5a41e2c4862b5dfa16e26214782",
            "a2e4d85e34a14ed5950a9d0a94bcd080",
            "198c9a36a5ac44e98b7051de1c0574e1",
            "e6f8cb34bcad45dab1dd38adcab170c7",
            "81e13877147243909374eec6b8ddd29f",
            "fa9e4cebfa904685b9b27badfcb84ed7",
            "e357211a8dce490ea8a9f21f8b20cc47",
            "2945da2ea49a4108a413d39a5ab64282",
            "e92788dc808c48d8b441a49c9d511720",
            "39fc6ae32ba042c89a638f13a9ebe7c8",
            "69c2d398cc814638bde851c041b7cc3d",
            "fa68d91bc5af497c89824cbba2e2b287",
            "796a1608384b47fc877c76bcf426be0e",
            "ee8983b338c6483bb3a7aaf0d6680df6",
            "e5a37a5ddcab4ca497e95f77ffeadb92",
            "0414818c836c418a94791d63f63af4d6",
            "35267e798dbe4b3681cb3115c403e7b8",
            "5bec8171802048d1bb4ec1f50e48348b",
            "495c64db28a049cbab6b24e362885a72",
            "243fb2c41bf647919d974684e35d4f93",
            "aefd3947559446d4a5bb97e3a81f5c85"
          ]
        },
        "outputId": "29caea8a-09f3-49ca-ce35-a193542a0e8b"
      },
      "source": [
        "train_loader, test_loader,_=mnist(10)"
      ],
      "execution_count": null,
      "outputs": [
        {
          "output_type": "stream",
          "name": "stdout",
          "text": [
            "Downloading http://yann.lecun.com/exdb/mnist/train-images-idx3-ubyte.gz\n",
            "Downloading http://yann.lecun.com/exdb/mnist/train-images-idx3-ubyte.gz to ./datasets/MNIST/raw/train-images-idx3-ubyte.gz\n"
          ]
        },
        {
          "output_type": "display_data",
          "data": {
            "text/plain": [
              "  0%|          | 0/9912422 [00:00<?, ?it/s]"
            ],
            "application/vnd.jupyter.widget-view+json": {
              "version_major": 2,
              "version_minor": 0,
              "model_id": "64cf1c16e4db48dcb5e8d8e85afb0e8e"
            }
          },
          "metadata": {}
        },
        {
          "output_type": "stream",
          "name": "stdout",
          "text": [
            "Extracting ./datasets/MNIST/raw/train-images-idx3-ubyte.gz to ./datasets/MNIST/raw\n",
            "\n",
            "Downloading http://yann.lecun.com/exdb/mnist/train-labels-idx1-ubyte.gz\n",
            "Downloading http://yann.lecun.com/exdb/mnist/train-labels-idx1-ubyte.gz to ./datasets/MNIST/raw/train-labels-idx1-ubyte.gz\n"
          ]
        },
        {
          "output_type": "display_data",
          "data": {
            "text/plain": [
              "  0%|          | 0/28881 [00:00<?, ?it/s]"
            ],
            "application/vnd.jupyter.widget-view+json": {
              "version_major": 2,
              "version_minor": 0,
              "model_id": "9f9c031f4ebb4b299886b118d7cb350d"
            }
          },
          "metadata": {}
        },
        {
          "output_type": "stream",
          "name": "stdout",
          "text": [
            "Extracting ./datasets/MNIST/raw/train-labels-idx1-ubyte.gz to ./datasets/MNIST/raw\n",
            "\n",
            "Downloading http://yann.lecun.com/exdb/mnist/t10k-images-idx3-ubyte.gz\n",
            "Downloading http://yann.lecun.com/exdb/mnist/t10k-images-idx3-ubyte.gz to ./datasets/MNIST/raw/t10k-images-idx3-ubyte.gz\n"
          ]
        },
        {
          "output_type": "display_data",
          "data": {
            "text/plain": [
              "  0%|          | 0/1648877 [00:00<?, ?it/s]"
            ],
            "application/vnd.jupyter.widget-view+json": {
              "version_major": 2,
              "version_minor": 0,
              "model_id": "a19cfbadbdd541cdb620e908889868d9"
            }
          },
          "metadata": {}
        },
        {
          "output_type": "stream",
          "name": "stdout",
          "text": [
            "Extracting ./datasets/MNIST/raw/t10k-images-idx3-ubyte.gz to ./datasets/MNIST/raw\n",
            "\n",
            "Downloading http://yann.lecun.com/exdb/mnist/t10k-labels-idx1-ubyte.gz\n",
            "Downloading http://yann.lecun.com/exdb/mnist/t10k-labels-idx1-ubyte.gz to ./datasets/MNIST/raw/t10k-labels-idx1-ubyte.gz\n"
          ]
        },
        {
          "output_type": "display_data",
          "data": {
            "text/plain": [
              "  0%|          | 0/4542 [00:00<?, ?it/s]"
            ],
            "application/vnd.jupyter.widget-view+json": {
              "version_major": 2,
              "version_minor": 0,
              "model_id": "69c2d398cc814638bde851c041b7cc3d"
            }
          },
          "metadata": {}
        },
        {
          "output_type": "stream",
          "name": "stdout",
          "text": [
            "Extracting ./datasets/MNIST/raw/t10k-labels-idx1-ubyte.gz to ./datasets/MNIST/raw\n",
            "\n"
          ]
        }
      ]
    },
    {
      "cell_type": "markdown",
      "source": [
        "In most practical applications data will be located on folders on the hard drive and you will have a txt/csv file with the classifcation labels.\n",
        "\n",
        "To mimic this real life situation we will first write some samples of MNIST dataset to the hard disk and provide a file with the labels.\n",
        "\n",
        "We will then load this data with a data loader."
      ],
      "metadata": {
        "id": "wtRm9bQxqRw9"
      }
    },
    {
      "cell_type": "markdown",
      "source": [
        "creating folder for images."
      ],
      "metadata": {
        "id": "Qf6WOSprqp3B"
      }
    },
    {
      "cell_type": "code",
      "metadata": {
        "id": "u3tez8-9gqPx"
      },
      "source": [
        "!mkdir 'images'"
      ],
      "execution_count": null,
      "outputs": []
    },
    {
      "cell_type": "markdown",
      "source": [
        "writing first 310 images to the images folder"
      ],
      "metadata": {
        "id": "7FF2-8saqviq"
      }
    },
    {
      "cell_type": "code",
      "metadata": {
        "id": "jUaGUpfi4Qqe"
      },
      "source": [
        "from torchvision.utils import save_image\n",
        "ind=0\n",
        "im_name=[]\n",
        "labels=[]\n",
        "for i,batch in enumerate(train_loader):\n",
        "  if i>=30:\n",
        "      break\n",
        "  for j in range(batch[0].shape[0]):\n",
        "\n",
        "    im=batch[0][j,:,:,:]\n",
        "    save_image(im,f\"./images/{ind}.jpg\",normalize=True)\n",
        "    im_name.append(f\"{ind}.jpg\")\n",
        "    labels.append(batch[1][j].item())\n",
        "    ind+=1\n",
        "    im=torch.squeeze(im)\n",
        "\n",
        "    #plt.imshow(im)\n",
        "    #plt.title(f\"{batch[1][j].item()}\")"
      ],
      "execution_count": null,
      "outputs": []
    },
    {
      "cell_type": "code",
      "source": [
        "!ls images/"
      ],
      "metadata": {
        "colab": {
          "base_uri": "https://localhost:8080/"
        },
        "id": "NAWMD67gs82R",
        "outputId": "855a3a3a-d823-45cb-bf2f-a7bf73e59ac9"
      },
      "execution_count": null,
      "outputs": [
        {
          "output_type": "stream",
          "name": "stdout",
          "text": [
            "0.jpg\t 130.jpg  161.jpg  192.jpg  222.jpg  253.jpg  284.jpg  44.jpg  75.jpg\n",
            "100.jpg  131.jpg  162.jpg  193.jpg  223.jpg  254.jpg  285.jpg  45.jpg  76.jpg\n",
            "101.jpg  132.jpg  163.jpg  194.jpg  224.jpg  255.jpg  286.jpg  46.jpg  77.jpg\n",
            "102.jpg  133.jpg  164.jpg  195.jpg  225.jpg  256.jpg  287.jpg  47.jpg  78.jpg\n",
            "103.jpg  134.jpg  165.jpg  196.jpg  226.jpg  257.jpg  288.jpg  48.jpg  79.jpg\n",
            "104.jpg  135.jpg  166.jpg  197.jpg  227.jpg  258.jpg  289.jpg  49.jpg  7.jpg\n",
            "105.jpg  136.jpg  167.jpg  198.jpg  228.jpg  259.jpg  28.jpg   4.jpg   80.jpg\n",
            "106.jpg  137.jpg  168.jpg  199.jpg  229.jpg  25.jpg   290.jpg  50.jpg  81.jpg\n",
            "107.jpg  138.jpg  169.jpg  19.jpg   22.jpg   260.jpg  291.jpg  51.jpg  82.jpg\n",
            "108.jpg  139.jpg  16.jpg   1.jpg    230.jpg  261.jpg  292.jpg  52.jpg  83.jpg\n",
            "109.jpg  13.jpg   170.jpg  200.jpg  231.jpg  262.jpg  293.jpg  53.jpg  84.jpg\n",
            "10.jpg\t 140.jpg  171.jpg  201.jpg  232.jpg  263.jpg  294.jpg  54.jpg  85.jpg\n",
            "110.jpg  141.jpg  172.jpg  202.jpg  233.jpg  264.jpg  295.jpg  55.jpg  86.jpg\n",
            "111.jpg  142.jpg  173.jpg  203.jpg  234.jpg  265.jpg  296.jpg  56.jpg  87.jpg\n",
            "112.jpg  143.jpg  174.jpg  204.jpg  235.jpg  266.jpg  297.jpg  57.jpg  88.jpg\n",
            "113.jpg  144.jpg  175.jpg  205.jpg  236.jpg  267.jpg  298.jpg  58.jpg  89.jpg\n",
            "114.jpg  145.jpg  176.jpg  206.jpg  237.jpg  268.jpg  299.jpg  59.jpg  8.jpg\n",
            "115.jpg  146.jpg  177.jpg  207.jpg  238.jpg  269.jpg  29.jpg   5.jpg   90.jpg\n",
            "116.jpg  147.jpg  178.jpg  208.jpg  239.jpg  26.jpg   2.jpg    60.jpg  91.jpg\n",
            "117.jpg  148.jpg  179.jpg  209.jpg  23.jpg   270.jpg  30.jpg   61.jpg  92.jpg\n",
            "118.jpg  149.jpg  17.jpg   20.jpg   240.jpg  271.jpg  31.jpg   62.jpg  93.jpg\n",
            "119.jpg  14.jpg   180.jpg  210.jpg  241.jpg  272.jpg  32.jpg   63.jpg  94.jpg\n",
            "11.jpg\t 150.jpg  181.jpg  211.jpg  242.jpg  273.jpg  33.jpg   64.jpg  95.jpg\n",
            "120.jpg  151.jpg  182.jpg  212.jpg  243.jpg  274.jpg  34.jpg   65.jpg  96.jpg\n",
            "121.jpg  152.jpg  183.jpg  213.jpg  244.jpg  275.jpg  35.jpg   66.jpg  97.jpg\n",
            "122.jpg  153.jpg  184.jpg  214.jpg  245.jpg  276.jpg  36.jpg   67.jpg  98.jpg\n",
            "123.jpg  154.jpg  185.jpg  215.jpg  246.jpg  277.jpg  37.jpg   68.jpg  99.jpg\n",
            "124.jpg  155.jpg  186.jpg  216.jpg  247.jpg  278.jpg  38.jpg   69.jpg  9.jpg\n",
            "125.jpg  156.jpg  187.jpg  217.jpg  248.jpg  279.jpg  39.jpg   6.jpg\n",
            "126.jpg  157.jpg  188.jpg  218.jpg  249.jpg  27.jpg   3.jpg    70.jpg\n",
            "127.jpg  158.jpg  189.jpg  219.jpg  24.jpg   280.jpg  40.jpg   71.jpg\n",
            "128.jpg  159.jpg  18.jpg   21.jpg   250.jpg  281.jpg  41.jpg   72.jpg\n",
            "129.jpg  15.jpg   190.jpg  220.jpg  251.jpg  282.jpg  42.jpg   73.jpg\n",
            "12.jpg\t 160.jpg  191.jpg  221.jpg  252.jpg  283.jpg  43.jpg   74.jpg\n"
          ]
        }
      ]
    },
    {
      "cell_type": "markdown",
      "source": [
        "Writing the labels to labels.csv file"
      ],
      "metadata": {
        "id": "2s12N5Svq73m"
      }
    },
    {
      "cell_type": "code",
      "metadata": {
        "id": "Y_cF6BRHfD2B"
      },
      "source": [
        "import pandas as pd\n",
        "df = pd.DataFrame(list(zip(im_name, labels)),\n",
        "               columns =['Name', 'Labels'])\n",
        "\n",
        "df.head()\n",
        "df.to_csv('labels.csv')"
      ],
      "execution_count": null,
      "outputs": []
    },
    {
      "cell_type": "markdown",
      "source": [
        "Writing a dataset class for our dataset. We have to provide 2 methods __len__() which returns the lenght of the dataset and __get_item__(i) which returns the ith element of the dataset."
      ],
      "metadata": {
        "id": "vq_AUMlhrKyK"
      }
    },
    {
      "cell_type": "code",
      "source": [
        "df"
      ],
      "metadata": {
        "colab": {
          "base_uri": "https://localhost:8080/",
          "height": 424
        },
        "id": "Gb7V7ya8tKCS",
        "outputId": "cf504970-b2fc-4748-f653-819dd96547c0"
      },
      "execution_count": null,
      "outputs": [
        {
          "output_type": "execute_result",
          "data": {
            "text/plain": [
              "        Name  Labels\n",
              "0      0.jpg       9\n",
              "1      1.jpg       0\n",
              "2      2.jpg       4\n",
              "3      3.jpg       1\n",
              "4      4.jpg       4\n",
              "..       ...     ...\n",
              "295  295.jpg       5\n",
              "296  296.jpg       2\n",
              "297  297.jpg       1\n",
              "298  298.jpg       0\n",
              "299  299.jpg       2\n",
              "\n",
              "[300 rows x 2 columns]"
            ],
            "text/html": [
              "\n",
              "  <div id=\"df-34daf262-43cf-4aff-8db5-d369c3e18814\">\n",
              "    <div class=\"colab-df-container\">\n",
              "      <div>\n",
              "<style scoped>\n",
              "    .dataframe tbody tr th:only-of-type {\n",
              "        vertical-align: middle;\n",
              "    }\n",
              "\n",
              "    .dataframe tbody tr th {\n",
              "        vertical-align: top;\n",
              "    }\n",
              "\n",
              "    .dataframe thead th {\n",
              "        text-align: right;\n",
              "    }\n",
              "</style>\n",
              "<table border=\"1\" class=\"dataframe\">\n",
              "  <thead>\n",
              "    <tr style=\"text-align: right;\">\n",
              "      <th></th>\n",
              "      <th>Name</th>\n",
              "      <th>Labels</th>\n",
              "    </tr>\n",
              "  </thead>\n",
              "  <tbody>\n",
              "    <tr>\n",
              "      <th>0</th>\n",
              "      <td>0.jpg</td>\n",
              "      <td>9</td>\n",
              "    </tr>\n",
              "    <tr>\n",
              "      <th>1</th>\n",
              "      <td>1.jpg</td>\n",
              "      <td>0</td>\n",
              "    </tr>\n",
              "    <tr>\n",
              "      <th>2</th>\n",
              "      <td>2.jpg</td>\n",
              "      <td>4</td>\n",
              "    </tr>\n",
              "    <tr>\n",
              "      <th>3</th>\n",
              "      <td>3.jpg</td>\n",
              "      <td>1</td>\n",
              "    </tr>\n",
              "    <tr>\n",
              "      <th>4</th>\n",
              "      <td>4.jpg</td>\n",
              "      <td>4</td>\n",
              "    </tr>\n",
              "    <tr>\n",
              "      <th>...</th>\n",
              "      <td>...</td>\n",
              "      <td>...</td>\n",
              "    </tr>\n",
              "    <tr>\n",
              "      <th>295</th>\n",
              "      <td>295.jpg</td>\n",
              "      <td>5</td>\n",
              "    </tr>\n",
              "    <tr>\n",
              "      <th>296</th>\n",
              "      <td>296.jpg</td>\n",
              "      <td>2</td>\n",
              "    </tr>\n",
              "    <tr>\n",
              "      <th>297</th>\n",
              "      <td>297.jpg</td>\n",
              "      <td>1</td>\n",
              "    </tr>\n",
              "    <tr>\n",
              "      <th>298</th>\n",
              "      <td>298.jpg</td>\n",
              "      <td>0</td>\n",
              "    </tr>\n",
              "    <tr>\n",
              "      <th>299</th>\n",
              "      <td>299.jpg</td>\n",
              "      <td>2</td>\n",
              "    </tr>\n",
              "  </tbody>\n",
              "</table>\n",
              "<p>300 rows × 2 columns</p>\n",
              "</div>\n",
              "      <button class=\"colab-df-convert\" onclick=\"convertToInteractive('df-34daf262-43cf-4aff-8db5-d369c3e18814')\"\n",
              "              title=\"Convert this dataframe to an interactive table.\"\n",
              "              style=\"display:none;\">\n",
              "        \n",
              "  <svg xmlns=\"http://www.w3.org/2000/svg\" height=\"24px\"viewBox=\"0 0 24 24\"\n",
              "       width=\"24px\">\n",
              "    <path d=\"M0 0h24v24H0V0z\" fill=\"none\"/>\n",
              "    <path d=\"M18.56 5.44l.94 2.06.94-2.06 2.06-.94-2.06-.94-.94-2.06-.94 2.06-2.06.94zm-11 1L8.5 8.5l.94-2.06 2.06-.94-2.06-.94L8.5 2.5l-.94 2.06-2.06.94zm10 10l.94 2.06.94-2.06 2.06-.94-2.06-.94-.94-2.06-.94 2.06-2.06.94z\"/><path d=\"M17.41 7.96l-1.37-1.37c-.4-.4-.92-.59-1.43-.59-.52 0-1.04.2-1.43.59L10.3 9.45l-7.72 7.72c-.78.78-.78 2.05 0 2.83L4 21.41c.39.39.9.59 1.41.59.51 0 1.02-.2 1.41-.59l7.78-7.78 2.81-2.81c.8-.78.8-2.07 0-2.86zM5.41 20L4 18.59l7.72-7.72 1.47 1.35L5.41 20z\"/>\n",
              "  </svg>\n",
              "      </button>\n",
              "      \n",
              "  <style>\n",
              "    .colab-df-container {\n",
              "      display:flex;\n",
              "      flex-wrap:wrap;\n",
              "      gap: 12px;\n",
              "    }\n",
              "\n",
              "    .colab-df-convert {\n",
              "      background-color: #E8F0FE;\n",
              "      border: none;\n",
              "      border-radius: 50%;\n",
              "      cursor: pointer;\n",
              "      display: none;\n",
              "      fill: #1967D2;\n",
              "      height: 32px;\n",
              "      padding: 0 0 0 0;\n",
              "      width: 32px;\n",
              "    }\n",
              "\n",
              "    .colab-df-convert:hover {\n",
              "      background-color: #E2EBFA;\n",
              "      box-shadow: 0px 1px 2px rgba(60, 64, 67, 0.3), 0px 1px 3px 1px rgba(60, 64, 67, 0.15);\n",
              "      fill: #174EA6;\n",
              "    }\n",
              "\n",
              "    [theme=dark] .colab-df-convert {\n",
              "      background-color: #3B4455;\n",
              "      fill: #D2E3FC;\n",
              "    }\n",
              "\n",
              "    [theme=dark] .colab-df-convert:hover {\n",
              "      background-color: #434B5C;\n",
              "      box-shadow: 0px 1px 3px 1px rgba(0, 0, 0, 0.15);\n",
              "      filter: drop-shadow(0px 1px 2px rgba(0, 0, 0, 0.3));\n",
              "      fill: #FFFFFF;\n",
              "    }\n",
              "  </style>\n",
              "\n",
              "      <script>\n",
              "        const buttonEl =\n",
              "          document.querySelector('#df-34daf262-43cf-4aff-8db5-d369c3e18814 button.colab-df-convert');\n",
              "        buttonEl.style.display =\n",
              "          google.colab.kernel.accessAllowed ? 'block' : 'none';\n",
              "\n",
              "        async function convertToInteractive(key) {\n",
              "          const element = document.querySelector('#df-34daf262-43cf-4aff-8db5-d369c3e18814');\n",
              "          const dataTable =\n",
              "            await google.colab.kernel.invokeFunction('convertToInteractive',\n",
              "                                                     [key], {});\n",
              "          if (!dataTable) return;\n",
              "\n",
              "          const docLinkHtml = 'Like what you see? Visit the ' +\n",
              "            '<a target=\"_blank\" href=https://colab.research.google.com/notebooks/data_table.ipynb>data table notebook</a>'\n",
              "            + ' to learn more about interactive tables.';\n",
              "          element.innerHTML = '';\n",
              "          dataTable['output_type'] = 'display_data';\n",
              "          await google.colab.output.renderOutput(dataTable, element);\n",
              "          const docLink = document.createElement('div');\n",
              "          docLink.innerHTML = docLinkHtml;\n",
              "          element.appendChild(docLink);\n",
              "        }\n",
              "      </script>\n",
              "    </div>\n",
              "  </div>\n",
              "  "
            ]
          },
          "metadata": {},
          "execution_count": 10
        }
      ]
    },
    {
      "cell_type": "code",
      "metadata": {
        "id": "2pCfWZWmfD2D"
      },
      "source": [
        "\n",
        "class mnistDataset(Dataset):\n",
        "    def __init__(self,imfol,labels_csv):\n",
        "        super(mnistDataset,self).__init__()\n",
        "        df=pd.read_csv(labels_csv)\n",
        "        self.labels=df['Labels'].tolist()\n",
        "        self.images=df['Name'].tolist()\n",
        "        self.imfol=imfol\n",
        "        \n",
        "        \n",
        "    def __len__(self):\n",
        "        return len(self.images)\n",
        "    \n",
        "    def __getitem__(self,idx):\n",
        "        im=Image.imread(f'{self.imfol}{self.images[idx]}')\n",
        "        im=np.transpose(im,(2,0,1))\n",
        "        label=self.labels[idx]\n",
        "        data=[]\n",
        "        data.append(np.asarray(im))\n",
        "        data.append(label)\n",
        "        return data\n",
        "        \n",
        "        "
      ],
      "execution_count": null,
      "outputs": []
    },
    {
      "cell_type": "markdown",
      "source": [
        "creating our dataset"
      ],
      "metadata": {
        "id": "gChOXOhGraT4"
      }
    },
    {
      "cell_type": "code",
      "metadata": {
        "id": "51gEKXJdfD2D"
      },
      "source": [
        "data=mnistDataset('./images/','labels.csv')\n"
      ],
      "execution_count": null,
      "outputs": []
    },
    {
      "cell_type": "code",
      "metadata": {
        "id": "Umy1LNEsfD2E"
      },
      "source": [
        "sample=data[299]"
      ],
      "execution_count": null,
      "outputs": []
    },
    {
      "cell_type": "code",
      "metadata": {
        "colab": {
          "base_uri": "https://localhost:8080/"
        },
        "id": "_jrJ70IPfD2E",
        "outputId": "bde716ac-d194-4f0e-8674-14b4d0cbdd89"
      },
      "source": [
        "sample[1]"
      ],
      "execution_count": null,
      "outputs": [
        {
          "output_type": "execute_result",
          "data": {
            "text/plain": [
              "2"
            ]
          },
          "metadata": {},
          "execution_count": 20
        }
      ]
    },
    {
      "cell_type": "markdown",
      "source": [
        "creatign the dataloader"
      ],
      "metadata": {
        "id": "FRmlGs5ardpb"
      }
    },
    {
      "cell_type": "code",
      "metadata": {
        "id": "NpNPpbu0fD2F"
      },
      "source": [
        "loader=DataLoader(data,batch_size=4)"
      ],
      "execution_count": null,
      "outputs": []
    },
    {
      "cell_type": "markdown",
      "source": [
        "examing the dataloader"
      ],
      "metadata": {
        "id": "9pGa3vTwrf4w"
      }
    },
    {
      "cell_type": "code",
      "metadata": {
        "id": "MU0qAjz0fD2F"
      },
      "source": [
        "for batch in loader:\n",
        "    print(batch[0].shape)\n",
        "    print(batch[1])"
      ],
      "execution_count": null,
      "outputs": []
    },
    {
      "cell_type": "code",
      "metadata": {
        "id": "I8u9hgF8fD2G"
      },
      "source": [
        "import torch\n",
        "import torch.nn as nn\n",
        "import torch.nn.functional as F\n",
        "import torch.optim as optim\n",
        "import numpy as np\n",
        "import matplotlib.pyplot as plt\n",
        "\n",
        "\n",
        "%matplotlib inline"
      ],
      "execution_count": null,
      "outputs": []
    },
    {
      "cell_type": "code",
      "metadata": {
        "id": "Ydpb29iKQiGG"
      },
      "source": [
        "import torch\n",
        "from torchvision import transforms\n",
        "from torchvision.datasets import MNIST, CIFAR10\n",
        "\n",
        "\n",
        "# MNIST\n",
        "def mnist(batch_sz):\n",
        "    num_classes = 10\n",
        "    transform_train = transforms.Compose([\n",
        "                        transforms.RandomCrop(28, padding=4),\n",
        "                        transforms.ToTensor(),\n",
        "                    ])\n",
        "    transform_test = transforms.Compose([\n",
        "                        transforms.ToTensor(),\n",
        "                    ])\n",
        "\n",
        "    # Training dataset\n",
        "    train_data = MNIST(root='./datasets', train=True, download=True, transform=transform_train)\n",
        "    train_loader = torch.utils.data.DataLoader(train_data, batch_size=batch_sz, shuffle=True,pin_memory=True)\n",
        "\n",
        "    # Test dataset\n",
        "    test_data = MNIST(root='./datasets', train=False, download=True, transform=transform_test)\n",
        "    test_loader = torch.utils.data.DataLoader(test_data,\n",
        "                                              batch_size=batch_sz, shuffle=False, pin_memory=True)\n",
        "\n",
        "    return train_loader, test_loader, num_classes\n",
        "\n",
        "\n",
        "# CIFAR10\n",
        "def cifar10(batch_sz):\n",
        "    num_classes = 10\n",
        "    transform_train = transforms.Compose([\n",
        "                        transforms.RandomCrop(32, padding=4),\n",
        "                        transforms.RandomHorizontalFlip(),\n",
        "                        transforms.ToTensor(),\n",
        "                    ])\n",
        "    transform_test = transforms.Compose([\n",
        "                        transforms.ToTensor(),\n",
        "                    ])\n",
        "\n",
        "    # Training dataset\n",
        "    train_data = CIFAR10(root='./datasets', train=True, download=True, transform=None)\n",
        "    train_loader = torch.utils.data.DataLoader(train_data, batch_size=batch_sz,\n",
        "                                               shuffle=True, pin_memory=True)\n",
        "\n",
        "    # Test dataset\n",
        "    test_data = CIFAR10(root='./datasets', train=False, download=True, transform=transform_test)\n",
        "    test_loader = torch.utils.data.DataLoader(test_data,\n",
        "                                              batch_size=batch_sz, shuffle=False, pin_memory=True)\n",
        "\n",
        "    return train_loader, test_loader, num_classes"
      ],
      "execution_count": null,
      "outputs": []
    },
    {
      "cell_type": "code",
      "metadata": {
        "id": "UiT4Js2UQl2z"
      },
      "source": [
        "train_loader, test_loader,_=mnist(10)"
      ],
      "execution_count": null,
      "outputs": []
    },
    {
      "cell_type": "code",
      "metadata": {
        "id": "pGxuaAUqRNEJ",
        "colab": {
          "base_uri": "https://localhost:8080/"
        },
        "outputId": "0139048f-1a2f-45f4-d5ef-16a21ca13eff"
      },
      "source": [
        "from torchvision.utils import save_image\n",
        "!mkdir 'images/'"
      ],
      "execution_count": null,
      "outputs": [
        {
          "output_type": "stream",
          "name": "stdout",
          "text": [
            "mkdir: cannot create directory ‘images/’: File exists\n"
          ]
        }
      ]
    },
    {
      "cell_type": "code",
      "metadata": {
        "id": "zWdYHzQYQpCx"
      },
      "source": [
        "idx=0\n",
        "im_list=[]\n",
        "label_list=[]\n",
        "for i,batch in enumerate(train_loader):\n",
        "  if i>200:\n",
        "    break\n",
        "  for j in range(batch[0].shape[0]):\n",
        "    im=batch[0][j,:,:,:]\n",
        "    label=batch[1][j].item()\n",
        "    im_name=f\"{idx}.jpg\"\n",
        "    im_list.append(im_name)\n",
        "    label_list.append(label)\n",
        "    save_image(im,f\"images/{im_name}\")\n",
        "    idx+=1\n"
      ],
      "execution_count": null,
      "outputs": []
    },
    {
      "cell_type": "code",
      "metadata": {
        "id": "k5aKCtXARi0M"
      },
      "source": [
        "!ls 'images/' -la\n"
      ],
      "execution_count": null,
      "outputs": []
    },
    {
      "cell_type": "code",
      "metadata": {
        "colab": {
          "base_uri": "https://localhost:8080/"
        },
        "id": "-xWtKiCJRkn0",
        "outputId": "43ac8c7f-865f-49ed-cbc2-ab32fdd6b5ba"
      },
      "source": [
        "import pandas as pd\n",
        "df=pd.DataFrame(zip(im_list,label_list),columns=['Name','label'])\n",
        "print(df.head())"
      ],
      "execution_count": null,
      "outputs": [
        {
          "output_type": "stream",
          "name": "stdout",
          "text": [
            "    Name  label\n",
            "0  0.jpg      8\n",
            "1  1.jpg      4\n",
            "2  2.jpg      6\n",
            "3  3.jpg      7\n",
            "4  4.jpg      5\n"
          ]
        }
      ]
    },
    {
      "cell_type": "code",
      "metadata": {
        "id": "3M8xMI8eS6WD"
      },
      "source": [
        "df.to_csv('im_list.csv')"
      ],
      "execution_count": null,
      "outputs": []
    },
    {
      "cell_type": "code",
      "metadata": {
        "colab": {
          "base_uri": "https://localhost:8080/"
        },
        "id": "4dxocrAtTBpG",
        "outputId": "10b9b75f-2ab1-4809-9215-e7a8243cdd24"
      },
      "source": [
        "!ls"
      ],
      "execution_count": null,
      "outputs": [
        {
          "output_type": "stream",
          "name": "stdout",
          "text": [
            "datasets  images  im_list.csv  labels.csv  sample_data\n"
          ]
        }
      ]
    },
    {
      "cell_type": "code",
      "metadata": {
        "id": "5FCWDsiETDZL"
      },
      "source": [
        "from torch.utils.data import Dataset, DataLoader\n",
        "import imageio as Image\n",
        "\n",
        "class MyDataset(Dataset):\n",
        "  def __init__(self,im_path,im_list_file):\n",
        "    self.im_path=im_path\n",
        "    df=pd.read_csv(im_list_file)\n",
        "    self.im_names=df['Name'].tolist()\n",
        "    self.labels=df['label'].tolist()\n",
        "\n",
        "\n",
        "  def __len__(self):\n",
        "    return len(self.im_names)\n",
        "\n",
        "\n",
        "  def __getitem__(self,idx):\n",
        "    im=Image.imread(f\"{self.im_path}{self.im_names[idx]}\")\n",
        "    im=np.transpose(im,(2,0,1))\n",
        "    label=self.labels[idx]\n",
        "    sample={'im':np.asarray(im), 'label':label}\n",
        "    return sample\n",
        "\n"
      ],
      "execution_count": null,
      "outputs": []
    },
    {
      "cell_type": "code",
      "metadata": {
        "id": "TYqZQKX-VPiw"
      },
      "source": [
        "dataset=MyDataset('images/','im_list.csv')"
      ],
      "execution_count": null,
      "outputs": []
    },
    {
      "cell_type": "code",
      "metadata": {
        "colab": {
          "base_uri": "https://localhost:8080/"
        },
        "id": "I-9_tOy8VXu7",
        "outputId": "cb10fc7e-7df8-41a1-dec7-c0be31b27cd6"
      },
      "source": [
        "type(dataset[0]['im'])"
      ],
      "execution_count": null,
      "outputs": [
        {
          "output_type": "execute_result",
          "data": {
            "text/plain": [
              "numpy.ndarray"
            ]
          },
          "metadata": {},
          "execution_count": 29
        }
      ]
    },
    {
      "cell_type": "code",
      "metadata": {
        "id": "vHgRka8JVZzt"
      },
      "source": [
        "train_loader=DataLoader(dataset,batch_size=7)"
      ],
      "execution_count": null,
      "outputs": []
    },
    {
      "cell_type": "code",
      "metadata": {
        "id": "lKaeSnMAV-w0",
        "colab": {
          "base_uri": "https://localhost:8080/"
        },
        "outputId": "1ee200dd-2193-4f56-ea36-408e88e44d1d"
      },
      "source": [
        "for batch in train_loader:\n",
        "  print(batch['im'].shape, batch['label'].shape)"
      ],
      "execution_count": null,
      "outputs": [
        {
          "output_type": "stream",
          "name": "stdout",
          "text": [
            "torch.Size([7, 3, 28, 28]) torch.Size([7])\n",
            "torch.Size([7, 3, 28, 28]) torch.Size([7])\n",
            "torch.Size([7, 3, 28, 28]) torch.Size([7])\n",
            "torch.Size([7, 3, 28, 28]) torch.Size([7])\n",
            "torch.Size([7, 3, 28, 28]) torch.Size([7])\n",
            "torch.Size([7, 3, 28, 28]) torch.Size([7])\n",
            "torch.Size([7, 3, 28, 28]) torch.Size([7])\n",
            "torch.Size([7, 3, 28, 28]) torch.Size([7])\n",
            "torch.Size([7, 3, 28, 28]) torch.Size([7])\n",
            "torch.Size([7, 3, 28, 28]) torch.Size([7])\n",
            "torch.Size([7, 3, 28, 28]) torch.Size([7])\n",
            "torch.Size([7, 3, 28, 28]) torch.Size([7])\n",
            "torch.Size([7, 3, 28, 28]) torch.Size([7])\n",
            "torch.Size([7, 3, 28, 28]) torch.Size([7])\n",
            "torch.Size([7, 3, 28, 28]) torch.Size([7])\n",
            "torch.Size([7, 3, 28, 28]) torch.Size([7])\n",
            "torch.Size([7, 3, 28, 28]) torch.Size([7])\n",
            "torch.Size([7, 3, 28, 28]) torch.Size([7])\n",
            "torch.Size([7, 3, 28, 28]) torch.Size([7])\n",
            "torch.Size([7, 3, 28, 28]) torch.Size([7])\n",
            "torch.Size([7, 3, 28, 28]) torch.Size([7])\n",
            "torch.Size([7, 3, 28, 28]) torch.Size([7])\n",
            "torch.Size([7, 3, 28, 28]) torch.Size([7])\n",
            "torch.Size([7, 3, 28, 28]) torch.Size([7])\n",
            "torch.Size([7, 3, 28, 28]) torch.Size([7])\n",
            "torch.Size([7, 3, 28, 28]) torch.Size([7])\n",
            "torch.Size([7, 3, 28, 28]) torch.Size([7])\n",
            "torch.Size([7, 3, 28, 28]) torch.Size([7])\n",
            "torch.Size([7, 3, 28, 28]) torch.Size([7])\n",
            "torch.Size([7, 3, 28, 28]) torch.Size([7])\n",
            "torch.Size([7, 3, 28, 28]) torch.Size([7])\n",
            "torch.Size([7, 3, 28, 28]) torch.Size([7])\n",
            "torch.Size([7, 3, 28, 28]) torch.Size([7])\n",
            "torch.Size([7, 3, 28, 28]) torch.Size([7])\n",
            "torch.Size([7, 3, 28, 28]) torch.Size([7])\n",
            "torch.Size([7, 3, 28, 28]) torch.Size([7])\n",
            "torch.Size([7, 3, 28, 28]) torch.Size([7])\n",
            "torch.Size([7, 3, 28, 28]) torch.Size([7])\n",
            "torch.Size([7, 3, 28, 28]) torch.Size([7])\n",
            "torch.Size([7, 3, 28, 28]) torch.Size([7])\n",
            "torch.Size([7, 3, 28, 28]) torch.Size([7])\n",
            "torch.Size([7, 3, 28, 28]) torch.Size([7])\n",
            "torch.Size([7, 3, 28, 28]) torch.Size([7])\n",
            "torch.Size([7, 3, 28, 28]) torch.Size([7])\n",
            "torch.Size([7, 3, 28, 28]) torch.Size([7])\n",
            "torch.Size([7, 3, 28, 28]) torch.Size([7])\n",
            "torch.Size([7, 3, 28, 28]) torch.Size([7])\n",
            "torch.Size([7, 3, 28, 28]) torch.Size([7])\n",
            "torch.Size([7, 3, 28, 28]) torch.Size([7])\n",
            "torch.Size([7, 3, 28, 28]) torch.Size([7])\n",
            "torch.Size([7, 3, 28, 28]) torch.Size([7])\n",
            "torch.Size([7, 3, 28, 28]) torch.Size([7])\n",
            "torch.Size([7, 3, 28, 28]) torch.Size([7])\n",
            "torch.Size([7, 3, 28, 28]) torch.Size([7])\n",
            "torch.Size([7, 3, 28, 28]) torch.Size([7])\n",
            "torch.Size([7, 3, 28, 28]) torch.Size([7])\n",
            "torch.Size([7, 3, 28, 28]) torch.Size([7])\n",
            "torch.Size([7, 3, 28, 28]) torch.Size([7])\n",
            "torch.Size([7, 3, 28, 28]) torch.Size([7])\n",
            "torch.Size([7, 3, 28, 28]) torch.Size([7])\n",
            "torch.Size([7, 3, 28, 28]) torch.Size([7])\n",
            "torch.Size([7, 3, 28, 28]) torch.Size([7])\n",
            "torch.Size([7, 3, 28, 28]) torch.Size([7])\n",
            "torch.Size([7, 3, 28, 28]) torch.Size([7])\n",
            "torch.Size([7, 3, 28, 28]) torch.Size([7])\n",
            "torch.Size([7, 3, 28, 28]) torch.Size([7])\n",
            "torch.Size([7, 3, 28, 28]) torch.Size([7])\n",
            "torch.Size([7, 3, 28, 28]) torch.Size([7])\n",
            "torch.Size([7, 3, 28, 28]) torch.Size([7])\n",
            "torch.Size([7, 3, 28, 28]) torch.Size([7])\n",
            "torch.Size([7, 3, 28, 28]) torch.Size([7])\n",
            "torch.Size([7, 3, 28, 28]) torch.Size([7])\n",
            "torch.Size([7, 3, 28, 28]) torch.Size([7])\n",
            "torch.Size([7, 3, 28, 28]) torch.Size([7])\n",
            "torch.Size([7, 3, 28, 28]) torch.Size([7])\n",
            "torch.Size([7, 3, 28, 28]) torch.Size([7])\n",
            "torch.Size([7, 3, 28, 28]) torch.Size([7])\n",
            "torch.Size([7, 3, 28, 28]) torch.Size([7])\n",
            "torch.Size([7, 3, 28, 28]) torch.Size([7])\n",
            "torch.Size([7, 3, 28, 28]) torch.Size([7])\n",
            "torch.Size([7, 3, 28, 28]) torch.Size([7])\n",
            "torch.Size([7, 3, 28, 28]) torch.Size([7])\n",
            "torch.Size([7, 3, 28, 28]) torch.Size([7])\n",
            "torch.Size([7, 3, 28, 28]) torch.Size([7])\n",
            "torch.Size([7, 3, 28, 28]) torch.Size([7])\n",
            "torch.Size([7, 3, 28, 28]) torch.Size([7])\n",
            "torch.Size([7, 3, 28, 28]) torch.Size([7])\n",
            "torch.Size([7, 3, 28, 28]) torch.Size([7])\n",
            "torch.Size([7, 3, 28, 28]) torch.Size([7])\n",
            "torch.Size([7, 3, 28, 28]) torch.Size([7])\n",
            "torch.Size([7, 3, 28, 28]) torch.Size([7])\n",
            "torch.Size([7, 3, 28, 28]) torch.Size([7])\n",
            "torch.Size([7, 3, 28, 28]) torch.Size([7])\n",
            "torch.Size([7, 3, 28, 28]) torch.Size([7])\n",
            "torch.Size([7, 3, 28, 28]) torch.Size([7])\n",
            "torch.Size([7, 3, 28, 28]) torch.Size([7])\n",
            "torch.Size([7, 3, 28, 28]) torch.Size([7])\n",
            "torch.Size([7, 3, 28, 28]) torch.Size([7])\n",
            "torch.Size([7, 3, 28, 28]) torch.Size([7])\n",
            "torch.Size([7, 3, 28, 28]) torch.Size([7])\n",
            "torch.Size([7, 3, 28, 28]) torch.Size([7])\n",
            "torch.Size([7, 3, 28, 28]) torch.Size([7])\n",
            "torch.Size([7, 3, 28, 28]) torch.Size([7])\n",
            "torch.Size([7, 3, 28, 28]) torch.Size([7])\n",
            "torch.Size([7, 3, 28, 28]) torch.Size([7])\n",
            "torch.Size([7, 3, 28, 28]) torch.Size([7])\n",
            "torch.Size([7, 3, 28, 28]) torch.Size([7])\n",
            "torch.Size([7, 3, 28, 28]) torch.Size([7])\n",
            "torch.Size([7, 3, 28, 28]) torch.Size([7])\n",
            "torch.Size([7, 3, 28, 28]) torch.Size([7])\n",
            "torch.Size([7, 3, 28, 28]) torch.Size([7])\n",
            "torch.Size([7, 3, 28, 28]) torch.Size([7])\n",
            "torch.Size([7, 3, 28, 28]) torch.Size([7])\n",
            "torch.Size([7, 3, 28, 28]) torch.Size([7])\n",
            "torch.Size([7, 3, 28, 28]) torch.Size([7])\n",
            "torch.Size([7, 3, 28, 28]) torch.Size([7])\n",
            "torch.Size([7, 3, 28, 28]) torch.Size([7])\n",
            "torch.Size([7, 3, 28, 28]) torch.Size([7])\n",
            "torch.Size([7, 3, 28, 28]) torch.Size([7])\n",
            "torch.Size([7, 3, 28, 28]) torch.Size([7])\n",
            "torch.Size([7, 3, 28, 28]) torch.Size([7])\n",
            "torch.Size([7, 3, 28, 28]) torch.Size([7])\n",
            "torch.Size([7, 3, 28, 28]) torch.Size([7])\n",
            "torch.Size([7, 3, 28, 28]) torch.Size([7])\n",
            "torch.Size([7, 3, 28, 28]) torch.Size([7])\n",
            "torch.Size([7, 3, 28, 28]) torch.Size([7])\n",
            "torch.Size([7, 3, 28, 28]) torch.Size([7])\n",
            "torch.Size([7, 3, 28, 28]) torch.Size([7])\n",
            "torch.Size([7, 3, 28, 28]) torch.Size([7])\n",
            "torch.Size([7, 3, 28, 28]) torch.Size([7])\n",
            "torch.Size([7, 3, 28, 28]) torch.Size([7])\n",
            "torch.Size([7, 3, 28, 28]) torch.Size([7])\n",
            "torch.Size([7, 3, 28, 28]) torch.Size([7])\n",
            "torch.Size([7, 3, 28, 28]) torch.Size([7])\n",
            "torch.Size([7, 3, 28, 28]) torch.Size([7])\n",
            "torch.Size([7, 3, 28, 28]) torch.Size([7])\n",
            "torch.Size([7, 3, 28, 28]) torch.Size([7])\n",
            "torch.Size([7, 3, 28, 28]) torch.Size([7])\n",
            "torch.Size([7, 3, 28, 28]) torch.Size([7])\n",
            "torch.Size([7, 3, 28, 28]) torch.Size([7])\n",
            "torch.Size([7, 3, 28, 28]) torch.Size([7])\n",
            "torch.Size([7, 3, 28, 28]) torch.Size([7])\n",
            "torch.Size([7, 3, 28, 28]) torch.Size([7])\n",
            "torch.Size([7, 3, 28, 28]) torch.Size([7])\n",
            "torch.Size([7, 3, 28, 28]) torch.Size([7])\n",
            "torch.Size([7, 3, 28, 28]) torch.Size([7])\n",
            "torch.Size([7, 3, 28, 28]) torch.Size([7])\n",
            "torch.Size([7, 3, 28, 28]) torch.Size([7])\n",
            "torch.Size([7, 3, 28, 28]) torch.Size([7])\n",
            "torch.Size([7, 3, 28, 28]) torch.Size([7])\n",
            "torch.Size([7, 3, 28, 28]) torch.Size([7])\n",
            "torch.Size([7, 3, 28, 28]) torch.Size([7])\n",
            "torch.Size([7, 3, 28, 28]) torch.Size([7])\n",
            "torch.Size([7, 3, 28, 28]) torch.Size([7])\n",
            "torch.Size([7, 3, 28, 28]) torch.Size([7])\n",
            "torch.Size([7, 3, 28, 28]) torch.Size([7])\n",
            "torch.Size([7, 3, 28, 28]) torch.Size([7])\n",
            "torch.Size([7, 3, 28, 28]) torch.Size([7])\n",
            "torch.Size([7, 3, 28, 28]) torch.Size([7])\n",
            "torch.Size([7, 3, 28, 28]) torch.Size([7])\n",
            "torch.Size([7, 3, 28, 28]) torch.Size([7])\n",
            "torch.Size([7, 3, 28, 28]) torch.Size([7])\n",
            "torch.Size([7, 3, 28, 28]) torch.Size([7])\n",
            "torch.Size([7, 3, 28, 28]) torch.Size([7])\n",
            "torch.Size([7, 3, 28, 28]) torch.Size([7])\n",
            "torch.Size([7, 3, 28, 28]) torch.Size([7])\n",
            "torch.Size([7, 3, 28, 28]) torch.Size([7])\n",
            "torch.Size([7, 3, 28, 28]) torch.Size([7])\n",
            "torch.Size([7, 3, 28, 28]) torch.Size([7])\n",
            "torch.Size([7, 3, 28, 28]) torch.Size([7])\n",
            "torch.Size([7, 3, 28, 28]) torch.Size([7])\n",
            "torch.Size([7, 3, 28, 28]) torch.Size([7])\n",
            "torch.Size([7, 3, 28, 28]) torch.Size([7])\n",
            "torch.Size([7, 3, 28, 28]) torch.Size([7])\n",
            "torch.Size([7, 3, 28, 28]) torch.Size([7])\n",
            "torch.Size([7, 3, 28, 28]) torch.Size([7])\n",
            "torch.Size([7, 3, 28, 28]) torch.Size([7])\n",
            "torch.Size([7, 3, 28, 28]) torch.Size([7])\n",
            "torch.Size([7, 3, 28, 28]) torch.Size([7])\n",
            "torch.Size([7, 3, 28, 28]) torch.Size([7])\n",
            "torch.Size([7, 3, 28, 28]) torch.Size([7])\n",
            "torch.Size([7, 3, 28, 28]) torch.Size([7])\n",
            "torch.Size([7, 3, 28, 28]) torch.Size([7])\n",
            "torch.Size([7, 3, 28, 28]) torch.Size([7])\n",
            "torch.Size([7, 3, 28, 28]) torch.Size([7])\n",
            "torch.Size([7, 3, 28, 28]) torch.Size([7])\n",
            "torch.Size([7, 3, 28, 28]) torch.Size([7])\n",
            "torch.Size([7, 3, 28, 28]) torch.Size([7])\n",
            "torch.Size([7, 3, 28, 28]) torch.Size([7])\n",
            "torch.Size([7, 3, 28, 28]) torch.Size([7])\n",
            "torch.Size([7, 3, 28, 28]) torch.Size([7])\n",
            "torch.Size([7, 3, 28, 28]) torch.Size([7])\n",
            "torch.Size([7, 3, 28, 28]) torch.Size([7])\n",
            "torch.Size([7, 3, 28, 28]) torch.Size([7])\n",
            "torch.Size([7, 3, 28, 28]) torch.Size([7])\n",
            "torch.Size([7, 3, 28, 28]) torch.Size([7])\n",
            "torch.Size([7, 3, 28, 28]) torch.Size([7])\n",
            "torch.Size([7, 3, 28, 28]) torch.Size([7])\n",
            "torch.Size([7, 3, 28, 28]) torch.Size([7])\n",
            "torch.Size([7, 3, 28, 28]) torch.Size([7])\n",
            "torch.Size([7, 3, 28, 28]) torch.Size([7])\n",
            "torch.Size([7, 3, 28, 28]) torch.Size([7])\n",
            "torch.Size([7, 3, 28, 28]) torch.Size([7])\n",
            "torch.Size([7, 3, 28, 28]) torch.Size([7])\n",
            "torch.Size([7, 3, 28, 28]) torch.Size([7])\n",
            "torch.Size([7, 3, 28, 28]) torch.Size([7])\n",
            "torch.Size([7, 3, 28, 28]) torch.Size([7])\n",
            "torch.Size([7, 3, 28, 28]) torch.Size([7])\n",
            "torch.Size([7, 3, 28, 28]) torch.Size([7])\n",
            "torch.Size([7, 3, 28, 28]) torch.Size([7])\n",
            "torch.Size([7, 3, 28, 28]) torch.Size([7])\n",
            "torch.Size([7, 3, 28, 28]) torch.Size([7])\n",
            "torch.Size([7, 3, 28, 28]) torch.Size([7])\n",
            "torch.Size([7, 3, 28, 28]) torch.Size([7])\n",
            "torch.Size([7, 3, 28, 28]) torch.Size([7])\n",
            "torch.Size([7, 3, 28, 28]) torch.Size([7])\n",
            "torch.Size([7, 3, 28, 28]) torch.Size([7])\n",
            "torch.Size([7, 3, 28, 28]) torch.Size([7])\n",
            "torch.Size([7, 3, 28, 28]) torch.Size([7])\n",
            "torch.Size([7, 3, 28, 28]) torch.Size([7])\n",
            "torch.Size([7, 3, 28, 28]) torch.Size([7])\n",
            "torch.Size([7, 3, 28, 28]) torch.Size([7])\n",
            "torch.Size([7, 3, 28, 28]) torch.Size([7])\n",
            "torch.Size([7, 3, 28, 28]) torch.Size([7])\n",
            "torch.Size([7, 3, 28, 28]) torch.Size([7])\n",
            "torch.Size([7, 3, 28, 28]) torch.Size([7])\n",
            "torch.Size([7, 3, 28, 28]) torch.Size([7])\n",
            "torch.Size([7, 3, 28, 28]) torch.Size([7])\n",
            "torch.Size([7, 3, 28, 28]) torch.Size([7])\n",
            "torch.Size([7, 3, 28, 28]) torch.Size([7])\n",
            "torch.Size([7, 3, 28, 28]) torch.Size([7])\n",
            "torch.Size([7, 3, 28, 28]) torch.Size([7])\n",
            "torch.Size([7, 3, 28, 28]) torch.Size([7])\n",
            "torch.Size([7, 3, 28, 28]) torch.Size([7])\n",
            "torch.Size([7, 3, 28, 28]) torch.Size([7])\n",
            "torch.Size([7, 3, 28, 28]) torch.Size([7])\n",
            "torch.Size([7, 3, 28, 28]) torch.Size([7])\n",
            "torch.Size([7, 3, 28, 28]) torch.Size([7])\n",
            "torch.Size([7, 3, 28, 28]) torch.Size([7])\n",
            "torch.Size([7, 3, 28, 28]) torch.Size([7])\n",
            "torch.Size([7, 3, 28, 28]) torch.Size([7])\n",
            "torch.Size([7, 3, 28, 28]) torch.Size([7])\n",
            "torch.Size([7, 3, 28, 28]) torch.Size([7])\n",
            "torch.Size([7, 3, 28, 28]) torch.Size([7])\n",
            "torch.Size([7, 3, 28, 28]) torch.Size([7])\n",
            "torch.Size([7, 3, 28, 28]) torch.Size([7])\n",
            "torch.Size([7, 3, 28, 28]) torch.Size([7])\n",
            "torch.Size([7, 3, 28, 28]) torch.Size([7])\n",
            "torch.Size([7, 3, 28, 28]) torch.Size([7])\n",
            "torch.Size([7, 3, 28, 28]) torch.Size([7])\n",
            "torch.Size([7, 3, 28, 28]) torch.Size([7])\n",
            "torch.Size([7, 3, 28, 28]) torch.Size([7])\n",
            "torch.Size([7, 3, 28, 28]) torch.Size([7])\n",
            "torch.Size([7, 3, 28, 28]) torch.Size([7])\n",
            "torch.Size([7, 3, 28, 28]) torch.Size([7])\n",
            "torch.Size([7, 3, 28, 28]) torch.Size([7])\n",
            "torch.Size([7, 3, 28, 28]) torch.Size([7])\n",
            "torch.Size([7, 3, 28, 28]) torch.Size([7])\n",
            "torch.Size([7, 3, 28, 28]) torch.Size([7])\n",
            "torch.Size([7, 3, 28, 28]) torch.Size([7])\n",
            "torch.Size([7, 3, 28, 28]) torch.Size([7])\n",
            "torch.Size([7, 3, 28, 28]) torch.Size([7])\n",
            "torch.Size([7, 3, 28, 28]) torch.Size([7])\n",
            "torch.Size([7, 3, 28, 28]) torch.Size([7])\n",
            "torch.Size([7, 3, 28, 28]) torch.Size([7])\n",
            "torch.Size([7, 3, 28, 28]) torch.Size([7])\n",
            "torch.Size([7, 3, 28, 28]) torch.Size([7])\n",
            "torch.Size([7, 3, 28, 28]) torch.Size([7])\n",
            "torch.Size([7, 3, 28, 28]) torch.Size([7])\n",
            "torch.Size([7, 3, 28, 28]) torch.Size([7])\n",
            "torch.Size([7, 3, 28, 28]) torch.Size([7])\n",
            "torch.Size([7, 3, 28, 28]) torch.Size([7])\n",
            "torch.Size([7, 3, 28, 28]) torch.Size([7])\n",
            "torch.Size([7, 3, 28, 28]) torch.Size([7])\n",
            "torch.Size([7, 3, 28, 28]) torch.Size([7])\n",
            "torch.Size([7, 3, 28, 28]) torch.Size([7])\n",
            "torch.Size([7, 3, 28, 28]) torch.Size([7])\n",
            "torch.Size([7, 3, 28, 28]) torch.Size([7])\n",
            "torch.Size([7, 3, 28, 28]) torch.Size([7])\n",
            "torch.Size([7, 3, 28, 28]) torch.Size([7])\n",
            "torch.Size([7, 3, 28, 28]) torch.Size([7])\n",
            "torch.Size([7, 3, 28, 28]) torch.Size([7])\n",
            "torch.Size([7, 3, 28, 28]) torch.Size([7])\n",
            "torch.Size([7, 3, 28, 28]) torch.Size([7])\n",
            "torch.Size([7, 3, 28, 28]) torch.Size([7])\n",
            "torch.Size([7, 3, 28, 28]) torch.Size([7])\n",
            "torch.Size([7, 3, 28, 28]) torch.Size([7])\n",
            "torch.Size([1, 3, 28, 28]) torch.Size([1])\n"
          ]
        }
      ]
    }
  ]
}