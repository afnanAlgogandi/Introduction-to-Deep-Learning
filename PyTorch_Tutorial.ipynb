{
  "nbformat": 4,
  "nbformat_minor": 0,
  "metadata": {
    "colab": {
      "name": "PyTorch_Tutorial.ipynb",
      "provenance": [],
      "collapsed_sections": [],
      "include_colab_link": true
    },
    "kernelspec": {
      "name": "python3",
      "display_name": "Python 3"
    },
    "language_info": {
      "name": "python"
    },
    "accelerator": "GPU"
  },
  "cells": [
    {
      "cell_type": "markdown",
      "metadata": {
        "id": "view-in-github",
        "colab_type": "text"
      },
      "source": [
        "<a href=\"https://colab.research.google.com/github/afnanAlgognadi/Introduction-to-Deep-Learning/blob/main/PyTorch_Tutorial.ipynb\" target=\"_parent\"><img src=\"https://colab.research.google.com/assets/colab-badge.svg\" alt=\"Open In Colab\"/></a>"
      ]
    },
    {
      "cell_type": "code",
      "execution_count": null,
      "metadata": {
        "id": "nbbIa6w7Ifbr"
      },
      "outputs": [],
      "source": [
        "import torch\n",
        "from time import time\n",
        "import numpy as np"
      ]
    },
    {
      "cell_type": "markdown",
      "source": [
        "An open source machine learning framework that accelerates the path from research prototyping to production deployment [PyTorch](https://pytorch.org/). To check the installation instructions check [PyTorch](https://pytorch.org/). We will import PyTorch and use it in todya's lab to implement simple and convoutional neural networks.\n"
      ],
      "metadata": {
        "id": "taGn5jj_gYD8"
      }
    },
    {
      "cell_type": "markdown",
      "source": [
        "Let's start by checking the version of PyTorch"
      ],
      "metadata": {
        "id": "qqR7Z027gheU"
      }
    },
    {
      "cell_type": "code",
      "source": [
        "print(\"Using torch\", torch.__version__)"
      ],
      "metadata": {
        "id": "YuhtOOmPXVbz",
        "colab": {
          "base_uri": "https://localhost:8080/"
        },
        "outputId": "8c71f41a-4f13-4058-cde2-a6390989e9eb"
      },
      "execution_count": null,
      "outputs": [
        {
          "output_type": "stream",
          "name": "stdout",
          "text": [
            "Using torch 1.12.1+cu113\n"
          ]
        }
      ]
    },
    {
      "cell_type": "markdown",
      "source": [
        "In several codes you will see the manaul_seed setup of PyTorch. This is done to ensure reproducibility of the code. Run the below code multiple times with and without the manual seed setup and you will that the random number geneator produces same random numbers every time when the seed is set."
      ],
      "metadata": {
        "id": "wDWOeBIcg-I4"
      }
    },
    {
      "cell_type": "code",
      "source": [
        "torch.manual_seed(4) # Setting the seed\n",
        "torch.randn(2)"
      ],
      "metadata": {
        "id": "k7bTTNPfXn6d",
        "colab": {
          "base_uri": "https://localhost:8080/"
        },
        "outputId": "e032a41d-1706-4df5-e430-8db2a48890cc"
      },
      "execution_count": null,
      "outputs": [
        {
          "output_type": "execute_result",
          "data": {
            "text/plain": [
              "tensor([ 1.2006, -0.4016])"
            ]
          },
          "metadata": {},
          "execution_count": 6
        }
      ]
    },
    {
      "cell_type": "markdown",
      "source": [
        "The basic data structure for PyTorch (and for that matter most other deep learning libraries) is Tensor. The simplest definition of a Tensor is \"Tensor is a multi-dimensional matrix\".\n",
        "\n",
        "There are multiple ways of defining tensors in PyTorch below we will show two such methods. Run the code and see what tensors are produced. For ease of notation I have used {variable name}_t to represent tensor variables in the code "
      ],
      "metadata": {
        "id": "zrfQdvFiheUI"
      }
    },
    {
      "cell_type": "code",
      "source": [
        "x=[[1,0],[0,1]]\n",
        "x_t=torch.Tensor(x)\n",
        "print(x_t)\n",
        "\n",
        "\n",
        "x=np.random.rand(3,3)\n",
        "x_t=torch.from_numpy(x)\n",
        "print(x_t)"
      ],
      "metadata": {
        "id": "xKN-0kncJFnJ",
        "colab": {
          "base_uri": "https://localhost:8080/"
        },
        "outputId": "718b091e-2627-4df4-ff72-59dd8b3709bf"
      },
      "execution_count": null,
      "outputs": [
        {
          "output_type": "stream",
          "name": "stdout",
          "text": [
            "tensor([[1., 0.],\n",
            "        [0., 1.]])\n",
            "tensor([[0.8853, 0.9268, 0.4877],\n",
            "        [0.7012, 0.7043, 0.7899],\n",
            "        [0.3077, 0.0120, 0.6836]], dtype=torch.float64)\n"
          ]
        }
      ]
    },
    {
      "cell_type": "markdown",
      "source": [
        "Tensors in PyTorch have several useful attributes (properties). Some of these attributes are shape, requires_grad, dtype, and device. shape attributes shows the shape of the Tensor, similar to the shape of a matrix. requries_grad is a flag that shows weather the gradients w.r.t the tensor are calculated or not. If requires_grad is True it will mean that PyTorch will keep of the gradient of the [output] w.r.t. the Tensor varaiable. dtype shows the data type of the tensor. device shows the device on which the tensor resides cpu or cuda (GPU). We will discuss why this is an important feature of the Tensor and how it helps us to speed up our codes."
      ],
      "metadata": {
        "id": "fgX3E361iTnK"
      }
    },
    {
      "cell_type": "code",
      "source": [
        "print(x_t.shape)\n",
        "print(x_t.requires_grad)\n",
        "print(x_t.dtype)\n",
        "print(x_t.device)"
      ],
      "metadata": {
        "id": "wOAwhSpDJbTm",
        "colab": {
          "base_uri": "https://localhost:8080/"
        },
        "outputId": "1354c802-a088-40f3-fbfa-0415a2e7a723"
      },
      "execution_count": null,
      "outputs": [
        {
          "output_type": "stream",
          "name": "stdout",
          "text": [
            "torch.Size([3, 3])\n",
            "False\n",
            "torch.float64\n",
            "cpu\n"
          ]
        }
      ]
    },
    {
      "cell_type": "markdown",
      "source": [
        "GPU (Graphics Processing Unit) is a specialized electronic circuit designed to rapidly manipulate and alter memory to accelerate the creation of images in a frame buffer intended for output to a display device. GPUs are used in embedded systems, mobile phones, personal computers, workstations, and game consoles. [GPUs](https://en.wikipedia.org/wiki/Graphics_processing_unit#:~:text=A%20graphics%20processing%20unit%20(GPU,%2C%20workstations%2C%20and%20game%20consoles.)\n",
        "\n",
        "\n",
        "GPUs are extremely beneficial in running matrix operations and as we will most of deep learning is composed of matrix opearations, we can significantly speed up our codes by using GPUs.\n",
        "\n",
        "There are several methods and attributes in PyTorch to manage the device on which Tensors can reside. Below we look at a few."
      ],
      "metadata": {
        "id": "iBlbMTekjafO"
      }
    },
    {
      "cell_type": "markdown",
      "source": [
        "GPUs are specialized expensive piece of equipment and might not be available on all machines. To check if a GPU is available on a machine we can use torch.cuda.is_available() method which returns a True value if a GPUs is available.\n",
        "\n",
        "Note: To use a GPU on Google Colab you can select the option under Edit->NoteBook Settings.\n",
        "\n",
        "\n",
        "To move Tensor between CPU and GPU we can use Tensor.to(...) method."
      ],
      "metadata": {
        "id": "Jr1xhDQFmYpY"
      }
    },
    {
      "cell_type": "code",
      "source": [
        "print(torch.cuda.device_count())"
      ],
      "metadata": {
        "colab": {
          "base_uri": "https://localhost:8080/"
        },
        "id": "8vY1QOC4yGlt",
        "outputId": "c9e210d9-c895-4fcb-fe99-85e2fc6fada7"
      },
      "execution_count": null,
      "outputs": [
        {
          "output_type": "stream",
          "name": "stdout",
          "text": [
            "1\n"
          ]
        }
      ]
    },
    {
      "cell_type": "code",
      "source": [
        "x_t = x_t.to(\"cuda:0\")\n",
        "print(x_t.device)"
      ],
      "metadata": {
        "colab": {
          "base_uri": "https://localhost:8080/"
        },
        "id": "agUklojrydGd",
        "outputId": "2b4e2420-6f4b-4ba0-810e-991486b81d91"
      },
      "execution_count": null,
      "outputs": [
        {
          "output_type": "stream",
          "name": "stdout",
          "text": [
            "cuda:0\n"
          ]
        }
      ]
    },
    {
      "cell_type": "code",
      "source": [
        "#managing device\n",
        "print(torch.cuda.is_available())\n",
        "\n",
        "print(torch.cuda.device_count())\n",
        "if torch.cuda.is_available():\n",
        "  device=torch.device(\"cuda:0\")\n",
        "else:\n",
        "  device=torch.device(\"cpu\")\n",
        "\n",
        "\n",
        "print(device)\n",
        "device=torch.device(\"cpu\")\n",
        "x_t_cpu=x_t.to(device)\n",
        "print(x_t_cpu.device)\n",
        "device=torch.device(\"cuda\")\n",
        "x_t_gpu=x_t.to(device)\n",
        "print(x_t_gpu.device)"
      ],
      "metadata": {
        "id": "tpcy8y1VLLg9"
      },
      "execution_count": null,
      "outputs": []
    },
    {
      "cell_type": "code",
      "source": [
        "!nvidia-smi"
      ],
      "metadata": {
        "id": "lN_deHP3SUXB",
        "colab": {
          "base_uri": "https://localhost:8080/"
        },
        "outputId": "e5f5b0b5-ce82-4c63-9498-e7b8be0d79f5"
      },
      "execution_count": null,
      "outputs": [
        {
          "output_type": "stream",
          "name": "stdout",
          "text": [
            "Tue Aug 23 13:01:20 2022       \n",
            "+-----------------------------------------------------------------------------+\n",
            "| NVIDIA-SMI 460.32.03    Driver Version: 460.32.03    CUDA Version: 11.2     |\n",
            "|-------------------------------+----------------------+----------------------+\n",
            "| GPU  Name        Persistence-M| Bus-Id        Disp.A | Volatile Uncorr. ECC |\n",
            "| Fan  Temp  Perf  Pwr:Usage/Cap|         Memory-Usage | GPU-Util  Compute M. |\n",
            "|                               |                      |               MIG M. |\n",
            "|===============================+======================+======================|\n",
            "|   0  Tesla T4            Off  | 00000000:00:04.0 Off |                    0 |\n",
            "| N/A   49C    P0    28W /  70W |    610MiB / 15109MiB |      0%      Default |\n",
            "|                               |                      |                  N/A |\n",
            "+-------------------------------+----------------------+----------------------+\n",
            "                                                                               \n",
            "+-----------------------------------------------------------------------------+\n",
            "| Processes:                                                                  |\n",
            "|  GPU   GI   CI        PID   Type   Process name                  GPU Memory |\n",
            "|        ID   ID                                                   Usage      |\n",
            "|=============================================================================|\n",
            "+-----------------------------------------------------------------------------+\n"
          ]
        }
      ]
    },
    {
      "cell_type": "code",
      "source": [
        "use_gpu=True\n",
        "if use_gpu:\n",
        "  device=torch.device(\"cuda:0\")\n",
        "else:\n",
        "  device=torch.device(\"cpu\")"
      ],
      "metadata": {
        "id": "XcnYsKVTQ_To"
      },
      "execution_count": null,
      "outputs": []
    },
    {
      "cell_type": "markdown",
      "source": [
        "We have dedicated functions in PyTorch to create tensors of particular types. Some of these are provided below. torch.zeros, creates a tensor of zeors, torch.ones, crates a tensor of ones, torch.eye creats an indentity matrix, torch.rand creats a tensor or random values sampled fron uniform distribution, torch.randn creates a tensor of random values samples from unit normal (gaussian distribution), torch.arange(N) ceates whole numbers till N-1"
      ],
      "metadata": {
        "id": "16qjvhZ_owQ7"
      }
    },
    {
      "cell_type": "code",
      "source": [
        "x = torch.rand((1,3))\n",
        "print(x)"
      ],
      "metadata": {
        "colab": {
          "base_uri": "https://localhost:8080/"
        },
        "id": "DogSSBKNzFhI",
        "outputId": "0b25ea71-79a3-4979-d0bf-58766b4c7cf8"
      },
      "execution_count": null,
      "outputs": [
        {
          "output_type": "stream",
          "name": "stdout",
          "text": [
            "tensor([[0.9432, 0.5616, 0.8392]])\n"
          ]
        }
      ]
    },
    {
      "cell_type": "code",
      "source": [
        "x=torch.zeros(3,3)\n",
        "print(x)\n",
        "x=torch.ones(2,2)\n",
        "print(x)\n",
        "x=torch.eye(2)\n",
        "print(x)\n",
        "x=torch.rand(2,1)\n",
        "print(x)\n",
        "x=torch.randn((3,2))\n",
        "print(x)\n",
        "x=torch.arange(5)\n",
        "print(x)"
      ],
      "metadata": {
        "id": "iB8ebKmroQ7C"
      },
      "execution_count": null,
      "outputs": []
    },
    {
      "cell_type": "markdown",
      "source": [
        "Tensor opeartions:\n",
        "Most numpy operations are also available in PyTorch. opeartaions like addition (+), subtraction (-), mulitplication (*), divistion (/), matrix multiplication (@), and power(***)."
      ],
      "metadata": {
        "id": "Xzdy_333nEH3"
      }
    },
    {
      "cell_type": "code",
      "source": [
        "#tensor operations\n",
        "\n",
        "x=torch.randn((3,3))\n",
        "y=torch.eye(3)\n",
        "print(x,y)\n",
        "\n",
        "zsum=x+y\n",
        "zdiff=x-y\n",
        "zprod=x*y\n",
        "zdiv=y/x\n",
        "# @ is read as at\n",
        "zmatmul=x@y\n",
        "zpow=x**y\n",
        "\n",
        "print(f\"element wise of the sum of the two tensors is{zsum}\")\n",
        "print(f\"element wise of the diff of the two tensors is{zdiff}\")\n",
        "print(f\"element wise of the prod of the two tensors is{zprod}\")\n",
        "print(f\"element wise of the div of the two tensors is{zdiv}\")\n",
        "print(f\"element wise of the pow of the two tensors is{zpow}\")\n",
        "print(f\"matrix multiplicaiton of the two tensors is{zmatmul}\")\n",
        "\n"
      ],
      "metadata": {
        "id": "vaOiJ9ffLkUV"
      },
      "execution_count": null,
      "outputs": []
    },
    {
      "cell_type": "markdown",
      "source": [
        "We can use Tensor1 [operation]= Tensor2 for in place operations on Tensor1.\n",
        "\n",
        "Several PyTorch functions also have an inplace version with the function name appended with and underscore."
      ],
      "metadata": {
        "id": "N3Ids2kfrh8_"
      }
    },
    {
      "cell_type": "code",
      "source": [
        "#pytorch also has inplace operations\n",
        "\n",
        "x+=y #x=x+y\n",
        "x-=y\n",
        "y*=x\n",
        "y/=x\n",
        "#x**=y.  x=x**y\n",
        "x@=y\n",
        "\n",
        "\n",
        "x.clamp(-0.5,0.5)\n",
        "print(x)\n",
        "x.clamp_(-0.5,0.5)\n",
        "print(x)"
      ],
      "metadata": {
        "id": "oODYh0ExOWfB"
      },
      "execution_count": null,
      "outputs": []
    },
    {
      "cell_type": "markdown",
      "source": [
        "PyTorch uses same indexing and slicing conventians as numpy"
      ],
      "metadata": {
        "id": "T1g-q8Njr8My"
      }
    },
    {
      "cell_type": "code",
      "source": [
        "#indexing and slicing\n",
        "x=torch.Tensor([[1,2,3],[4,5,6],[7,8,9]])\n",
        "print(x)\n",
        "#an element can be access by specifying the row and column\n",
        "print(x[1,1])\n",
        "# acessing rows and columns\n",
        "print(x[1,:], x[:,1])\n",
        "print(x[1,:].shape, x[:,1].shape)\n",
        "# acessing rows and columns and keeping the shape\n",
        "print(x[1:2,:], x[:,1:2])\n",
        "print(x[1:2,:].shape, x[:,1:2].shape)\n"
      ],
      "metadata": {
        "id": "2L8bo5hiQoCJ"
      },
      "execution_count": null,
      "outputs": []
    },
    {
      "cell_type": "code",
      "source": [
        "#indexing and slicing\n",
        "x=torch.Tensor([[1,2,3],[4,5,6],[7,8,9]])\n",
        "print(x)\n",
        "\n",
        "\n",
        "print(x[1:,1:])\n",
        "\n",
        "\n"
      ],
      "metadata": {
        "colab": {
          "base_uri": "https://localhost:8080/"
        },
        "id": "8KkUSKvi8Bc3",
        "outputId": "6e87c9b2-56c9-47ae-e5bb-7ea589569ee1"
      },
      "execution_count": null,
      "outputs": [
        {
          "output_type": "stream",
          "name": "stdout",
          "text": [
            "tensor([[1., 2., 3.],\n",
            "        [4., 5., 6.],\n",
            "        [7., 8., 9.]])\n",
            "tensor([[5., 6.],\n",
            "        [8., 9.]])\n"
          ]
        }
      ]
    },
    {
      "cell_type": "markdown",
      "source": [
        "Some Tensor operations in PyTorch are:\n",
        "concateation, and reshaping. "
      ],
      "metadata": {
        "id": "AuEk5nq3sBcN"
      }
    },
    {
      "cell_type": "code",
      "source": [
        "#tensor operations\n",
        "\n",
        "z=torch.cat((x,y), dim=1)\n",
        "print(z)\n",
        "\n",
        "z2=z.reshape(9,2)\n",
        "print(z2)\n",
        "z2=torch.reshape(z,(9,2))\n",
        "print(z2)"
      ],
      "metadata": {
        "id": "EgqHOJ9sUivV"
      },
      "execution_count": null,
      "outputs": []
    },
    {
      "cell_type": "markdown",
      "source": [
        "removing a unit dimension through squeeze, adding a unit dimension through unsqueeze."
      ],
      "metadata": {
        "id": "XCLS-tPmsXud"
      }
    },
    {
      "cell_type": "code",
      "source": [
        "\n",
        "x=torch.rand((1,2,3,1,5))\n",
        "x_u=x.unsqueeze(dim=0)\n",
        "print(x.shape, x_u.shape)\n",
        "x.unsqueeze_(dim=1)\n",
        "print(x.shape)\n",
        "\n",
        "\n",
        "\n",
        "print(x.shape)\n",
        "x_s=x.squeeze()\n",
        "print(x_s.shape)"
      ],
      "metadata": {
        "id": "T9eUDOf1iLli",
        "colab": {
          "base_uri": "https://localhost:8080/"
        },
        "outputId": "a05a46f4-1ebc-4bb8-8c6f-ec0c4ba5f127"
      },
      "execution_count": null,
      "outputs": [
        {
          "output_type": "stream",
          "name": "stdout",
          "text": [
            "torch.Size([1, 2, 3, 1, 5]) torch.Size([1, 1, 2, 3, 1, 5])\n",
            "torch.Size([1, 1, 2, 3, 1, 5])\n",
            "torch.Size([1, 1, 2, 3, 1, 5])\n",
            "torch.Size([2, 3, 5])\n"
          ]
        }
      ]
    },
    {
      "cell_type": "markdown",
      "source": [
        "Why use GPU?\n",
        "Example of matrix multiplication on CPU and GPU.\n",
        "\n",
        "Important points to consdier:\n",
        "Always use vector opeartions\n",
        "Always use PyTorch functions\n",
        "When possible always use GPUs for matrix operations"
      ],
      "metadata": {
        "id": "6twOFl_Vsju2"
      }
    },
    {
      "cell_type": "code",
      "source": [
        "# use vectorized operations and broadcasting\n",
        "# use GPU for vector/matrix operations\n",
        "siz=1000\n",
        "\n",
        "x=torch.randn((siz,siz))\n",
        "y=torch.randn((siz,siz))\n",
        "z=torch.zeros((siz,siz))\n",
        "st=time()\n",
        "for i in range(siz):\n",
        "  for j in range(siz):\n",
        "    z[i,j]=torch.dot(x[i,:],y[:,j])\n",
        "\n",
        "ed=time()\n",
        "print(f\"time taken by the nested loop multiplciation is {ed-st} seconds\")\n",
        "st=time()\n",
        "for i in range(siz):\n",
        "  z[i,:]=torch.mm(x[i,:].unsqueeze(dim=0),y)\n",
        "\n",
        "ed=time()\n",
        "print(f\"time taken by the single loop multiplciation is {ed-st} seconds\")\n",
        "st=time()\n",
        "z=torch.mm(x,y)\n",
        "\n",
        "ed=time()\n",
        "print(f\"time taken by  multiplciation on cpu is {ed-st} seconds\")\n",
        "\n",
        "device=torch.device(\"cuda:0\")\n",
        "x=x.to(device)\n",
        "y=y.to(device)\n",
        "z=z.to(device)\n",
        "st=time()\n",
        "z=torch.mm(x,y)\n",
        "ed=time()\n",
        "print(f\"time taken by multiplciation on GPU is {ed-st} seconds\")\n"
      ],
      "metadata": {
        "id": "7tSEtyTaiSZf",
        "colab": {
          "base_uri": "https://localhost:8080/"
        },
        "outputId": "9d777aae-cf02-47e7-8014-ad182e8b1f41"
      },
      "execution_count": null,
      "outputs": [
        {
          "output_type": "stream",
          "name": "stdout",
          "text": [
            "time taken by the nested loop multiplciation is 15.282914876937866 seconds\n",
            "time taken by the single loop multiplciation is 0.15435194969177246 seconds\n",
            "time taken by  multiplciation on cpu is 0.026717662811279297 seconds\n",
            "time taken by multiplciation on GPU is 0.0002620220184326172 seconds\n"
          ]
        }
      ]
    },
    {
      "cell_type": "markdown",
      "source": [
        "Autograd example with PyTorch"
      ],
      "metadata": {
        "id": "gjOc-p0KtSw8"
      }
    },
    {
      "cell_type": "code",
      "source": [
        "x=torch.randn((1,1), requires_grad=True)\n",
        "y=torch.Tensor([5.0])\n",
        "y.requires_grad=True\n",
        "\n",
        "z=2*x+y*y\n",
        "# dz/dx = 2\n",
        "# dz/dy = 2*y\n",
        "\n",
        "print(x.grad)\n",
        "print(x.grad_fn)\n",
        "print(x.data)\n",
        "\n",
        "z.backward()\n",
        "print(\"After backpass\")\n",
        "print(\"dz/dx\")\n",
        "print(x.grad)\n",
        "print(y.grad_fn)\n",
        "print(x.data)\n",
        "\n",
        "\n",
        "print(y.grad)\n",
        "print(y.grad_fn)\n",
        "print(y.data)"
      ],
      "metadata": {
        "colab": {
          "base_uri": "https://localhost:8080/"
        },
        "id": "mNO62Il31R7G",
        "outputId": "7676c15e-00a1-42ec-ea21-aa804bbf3ad5"
      },
      "execution_count": null,
      "outputs": [
        {
          "output_type": "stream",
          "name": "stdout",
          "text": [
            "None\n",
            "None\n",
            "tensor([[1.6525]])\n",
            "After backpass\n",
            "dz/dx\n",
            "tensor([[2.]])\n",
            "None\n",
            "tensor([[1.6525]])\n",
            "tensor([10.])\n",
            "None\n",
            "tensor([5.])\n"
          ]
        }
      ]
    },
    {
      "cell_type": "code",
      "source": [
        "x=torch.randn((1,1), requires_grad=True)\n",
        "y=torch.Tensor([5.0])\n",
        "y.requires_grad=True\n",
        "\n",
        "z=2*x+y*y\n",
        "# dz/dx = 2\n",
        "# dz/dy = 2*y\n",
        "\n",
        "print(x.grad)\n",
        "print(x.grad_fn)\n",
        "print(x.data)\n",
        "z.backward()\n",
        "print(\"After backpass\")\n",
        "print(\"dz/dx\")\n",
        "print(x.grad)\n",
        "print(z.grad_fn)\n",
        "print(x.data)\n",
        "\n",
        "print(\"dz/dy\")\n",
        "print(y.grad)\n",
        "print(z)\n",
        "print(y.data)\n",
        "print(z.requires_grad)\n",
        "with torch.no_grad():\n",
        "  z=2*x+y*y\n",
        "  print(z.requires_grad)\n",
        "\n",
        "\n",
        "#detaching variable and coverting back to numpy\n",
        "x=x.detach().cpu().numpy()\n",
        "print(type(x))"
      ],
      "metadata": {
        "id": "P7EVtohYrymk",
        "colab": {
          "base_uri": "https://localhost:8080/"
        },
        "outputId": "10238d91-39c5-4329-9ad3-2f49fb5da40d"
      },
      "execution_count": null,
      "outputs": [
        {
          "output_type": "stream",
          "name": "stdout",
          "text": [
            "None\n",
            "None\n",
            "tensor([[0.0106]])\n",
            "After backpass\n",
            "dz/dx\n",
            "tensor([[2.]])\n",
            "<AddBackward0 object at 0x7f0404c33c10>\n",
            "tensor([[0.0106]])\n",
            "dz/dy\n",
            "tensor([10.])\n",
            "tensor([[25.0212]], grad_fn=<AddBackward0>)\n",
            "tensor([5.])\n",
            "True\n",
            "False\n",
            "<class 'numpy.ndarray'>\n"
          ]
        }
      ]
    },
    {
      "cell_type": "code",
      "source": [
        "import matplotlib.pyplot as plt\n",
        "\n",
        "x=torch.rand((1,32,32))\n",
        "plt.imshow(x[0,:,:].numpy())"
      ],
      "metadata": {
        "id": "cFM0OLQEc5xj"
      },
      "execution_count": null,
      "outputs": []
    }
  ]
}